{
 "cells": [
  {
   "cell_type": "markdown",
   "metadata": {
    "id": "m5HY9FPH2umq"
   },
   "source": [
    "## Libararies"
   ]
  },
  {
   "cell_type": "code",
   "execution_count": 2,
   "metadata": {
    "id": "bgw-uRKjajX8"
   },
   "outputs": [],
   "source": [
    "import os\n",
    "import pandas as pd\n",
    "import matplotlib.pyplot as plt\n",
    "import seaborn as sns\n",
    "\n",
    "from sklearn.model_selection import train_test_split\n",
    "from sklearn.preprocessing import StandardScaler\n",
    "from sklearn.ensemble import RandomForestClassifier\n",
    "from sklearn.linear_model import LogisticRegression\n",
    "from xgboost import XGBClassifier\n",
    "from sklearn.metrics import (\n",
    "    classification_report,\n",
    "    confusion_matrix,\n",
    "    roc_auc_score,\n",
    "    precision_recall_curve,\n",
    "    auc,\n",
    ")"
   ]
  },
  {
   "cell_type": "markdown",
   "metadata": {
    "id": "oWVDXnF_22Nn"
   },
   "source": [
    "## Load Dataset"
   ]
  },
  {
   "cell_type": "code",
   "execution_count": 3,
   "metadata": {
    "colab": {
     "base_uri": "https://localhost:8080/"
    },
    "id": "YSZAtH2LwmIR",
    "outputId": "2e014dc2-c9d8-4202-8d64-79f23146bf01"
   },
   "outputs": [
    {
     "name": "stdout",
     "output_type": "stream",
     "text": [
      "Path to dataset files: C:\\Users\\Lenovo\\.cache\\kagglehub\\datasets\\wordsforthewise\\lending-club\\versions\\3\n"
     ]
    }
   ],
   "source": [
    "import kagglehub\n",
    "\n",
    "# Download latest version\n",
    "path = kagglehub.dataset_download(\"wordsforthewise/lending-club\")\n",
    "\n",
    "print(\"Path to dataset files:\", path)"
   ]
  },
  {
   "cell_type": "code",
   "execution_count": 4,
   "metadata": {
    "colab": {
     "base_uri": "https://localhost:8080/",
     "height": 342
    },
    "id": "tli-ezALwyx5",
    "outputId": "5e4fa186-67e9-4483-8727-622b3d6dec37"
   },
   "outputs": [
    {
     "data": {
      "application/vnd.microsoft.datawrangler.viewer.v0+json": {
       "columns": [
        {
         "name": "index",
         "rawType": "int64",
         "type": "integer"
        },
        {
         "name": "id",
         "rawType": "object",
         "type": "string"
        },
        {
         "name": "member_id",
         "rawType": "float64",
         "type": "float"
        },
        {
         "name": "loan_amnt",
         "rawType": "float64",
         "type": "float"
        },
        {
         "name": "funded_amnt",
         "rawType": "float64",
         "type": "float"
        },
        {
         "name": "funded_amnt_inv",
         "rawType": "float64",
         "type": "float"
        },
        {
         "name": "term",
         "rawType": "object",
         "type": "string"
        },
        {
         "name": "int_rate",
         "rawType": "float64",
         "type": "float"
        },
        {
         "name": "installment",
         "rawType": "float64",
         "type": "float"
        },
        {
         "name": "grade",
         "rawType": "object",
         "type": "string"
        },
        {
         "name": "sub_grade",
         "rawType": "object",
         "type": "string"
        },
        {
         "name": "emp_title",
         "rawType": "object",
         "type": "string"
        },
        {
         "name": "emp_length",
         "rawType": "object",
         "type": "string"
        },
        {
         "name": "home_ownership",
         "rawType": "object",
         "type": "string"
        },
        {
         "name": "annual_inc",
         "rawType": "float64",
         "type": "float"
        },
        {
         "name": "verification_status",
         "rawType": "object",
         "type": "string"
        },
        {
         "name": "issue_d",
         "rawType": "object",
         "type": "string"
        },
        {
         "name": "loan_status",
         "rawType": "object",
         "type": "string"
        },
        {
         "name": "pymnt_plan",
         "rawType": "object",
         "type": "string"
        },
        {
         "name": "url",
         "rawType": "object",
         "type": "string"
        },
        {
         "name": "desc",
         "rawType": "object",
         "type": "unknown"
        },
        {
         "name": "purpose",
         "rawType": "object",
         "type": "string"
        },
        {
         "name": "title",
         "rawType": "object",
         "type": "unknown"
        },
        {
         "name": "zip_code",
         "rawType": "object",
         "type": "string"
        },
        {
         "name": "addr_state",
         "rawType": "object",
         "type": "string"
        },
        {
         "name": "dti",
         "rawType": "float64",
         "type": "float"
        },
        {
         "name": "delinq_2yrs",
         "rawType": "float64",
         "type": "float"
        },
        {
         "name": "earliest_cr_line",
         "rawType": "object",
         "type": "string"
        },
        {
         "name": "fico_range_low",
         "rawType": "float64",
         "type": "float"
        },
        {
         "name": "fico_range_high",
         "rawType": "float64",
         "type": "float"
        },
        {
         "name": "inq_last_6mths",
         "rawType": "float64",
         "type": "float"
        },
        {
         "name": "mths_since_last_delinq",
         "rawType": "float64",
         "type": "float"
        },
        {
         "name": "mths_since_last_record",
         "rawType": "float64",
         "type": "float"
        },
        {
         "name": "open_acc",
         "rawType": "float64",
         "type": "float"
        },
        {
         "name": "pub_rec",
         "rawType": "float64",
         "type": "float"
        },
        {
         "name": "revol_bal",
         "rawType": "float64",
         "type": "float"
        },
        {
         "name": "revol_util",
         "rawType": "float64",
         "type": "float"
        },
        {
         "name": "total_acc",
         "rawType": "float64",
         "type": "float"
        },
        {
         "name": "initial_list_status",
         "rawType": "object",
         "type": "string"
        },
        {
         "name": "out_prncp",
         "rawType": "float64",
         "type": "float"
        },
        {
         "name": "out_prncp_inv",
         "rawType": "float64",
         "type": "float"
        },
        {
         "name": "total_pymnt",
         "rawType": "float64",
         "type": "float"
        },
        {
         "name": "total_pymnt_inv",
         "rawType": "float64",
         "type": "float"
        },
        {
         "name": "total_rec_prncp",
         "rawType": "float64",
         "type": "float"
        },
        {
         "name": "total_rec_int",
         "rawType": "float64",
         "type": "float"
        },
        {
         "name": "total_rec_late_fee",
         "rawType": "float64",
         "type": "float"
        },
        {
         "name": "recoveries",
         "rawType": "float64",
         "type": "float"
        },
        {
         "name": "collection_recovery_fee",
         "rawType": "float64",
         "type": "float"
        },
        {
         "name": "last_pymnt_d",
         "rawType": "object",
         "type": "string"
        },
        {
         "name": "last_pymnt_amnt",
         "rawType": "float64",
         "type": "float"
        },
        {
         "name": "next_pymnt_d",
         "rawType": "object",
         "type": "unknown"
        },
        {
         "name": "last_credit_pull_d",
         "rawType": "object",
         "type": "string"
        },
        {
         "name": "last_fico_range_high",
         "rawType": "float64",
         "type": "float"
        },
        {
         "name": "last_fico_range_low",
         "rawType": "float64",
         "type": "float"
        },
        {
         "name": "collections_12_mths_ex_med",
         "rawType": "float64",
         "type": "float"
        },
        {
         "name": "mths_since_last_major_derog",
         "rawType": "float64",
         "type": "float"
        },
        {
         "name": "policy_code",
         "rawType": "float64",
         "type": "float"
        },
        {
         "name": "application_type",
         "rawType": "object",
         "type": "string"
        },
        {
         "name": "annual_inc_joint",
         "rawType": "float64",
         "type": "float"
        },
        {
         "name": "dti_joint",
         "rawType": "float64",
         "type": "float"
        },
        {
         "name": "verification_status_joint",
         "rawType": "object",
         "type": "unknown"
        },
        {
         "name": "acc_now_delinq",
         "rawType": "float64",
         "type": "float"
        },
        {
         "name": "tot_coll_amt",
         "rawType": "float64",
         "type": "float"
        },
        {
         "name": "tot_cur_bal",
         "rawType": "float64",
         "type": "float"
        },
        {
         "name": "open_acc_6m",
         "rawType": "float64",
         "type": "float"
        },
        {
         "name": "open_act_il",
         "rawType": "float64",
         "type": "float"
        },
        {
         "name": "open_il_12m",
         "rawType": "float64",
         "type": "float"
        },
        {
         "name": "open_il_24m",
         "rawType": "float64",
         "type": "float"
        },
        {
         "name": "mths_since_rcnt_il",
         "rawType": "float64",
         "type": "float"
        },
        {
         "name": "total_bal_il",
         "rawType": "float64",
         "type": "float"
        },
        {
         "name": "il_util",
         "rawType": "float64",
         "type": "float"
        },
        {
         "name": "open_rv_12m",
         "rawType": "float64",
         "type": "float"
        },
        {
         "name": "open_rv_24m",
         "rawType": "float64",
         "type": "float"
        },
        {
         "name": "max_bal_bc",
         "rawType": "float64",
         "type": "float"
        },
        {
         "name": "all_util",
         "rawType": "float64",
         "type": "float"
        },
        {
         "name": "total_rev_hi_lim",
         "rawType": "float64",
         "type": "float"
        },
        {
         "name": "inq_fi",
         "rawType": "float64",
         "type": "float"
        },
        {
         "name": "total_cu_tl",
         "rawType": "float64",
         "type": "float"
        },
        {
         "name": "inq_last_12m",
         "rawType": "float64",
         "type": "float"
        },
        {
         "name": "acc_open_past_24mths",
         "rawType": "float64",
         "type": "float"
        },
        {
         "name": "avg_cur_bal",
         "rawType": "float64",
         "type": "float"
        },
        {
         "name": "bc_open_to_buy",
         "rawType": "float64",
         "type": "float"
        },
        {
         "name": "bc_util",
         "rawType": "float64",
         "type": "float"
        },
        {
         "name": "chargeoff_within_12_mths",
         "rawType": "float64",
         "type": "float"
        },
        {
         "name": "delinq_amnt",
         "rawType": "float64",
         "type": "float"
        },
        {
         "name": "mo_sin_old_il_acct",
         "rawType": "float64",
         "type": "float"
        },
        {
         "name": "mo_sin_old_rev_tl_op",
         "rawType": "float64",
         "type": "float"
        },
        {
         "name": "mo_sin_rcnt_rev_tl_op",
         "rawType": "float64",
         "type": "float"
        },
        {
         "name": "mo_sin_rcnt_tl",
         "rawType": "float64",
         "type": "float"
        },
        {
         "name": "mort_acc",
         "rawType": "float64",
         "type": "float"
        },
        {
         "name": "mths_since_recent_bc",
         "rawType": "float64",
         "type": "float"
        },
        {
         "name": "mths_since_recent_bc_dlq",
         "rawType": "float64",
         "type": "float"
        },
        {
         "name": "mths_since_recent_inq",
         "rawType": "float64",
         "type": "float"
        },
        {
         "name": "mths_since_recent_revol_delinq",
         "rawType": "float64",
         "type": "float"
        },
        {
         "name": "num_accts_ever_120_pd",
         "rawType": "float64",
         "type": "float"
        },
        {
         "name": "num_actv_bc_tl",
         "rawType": "float64",
         "type": "float"
        },
        {
         "name": "num_actv_rev_tl",
         "rawType": "float64",
         "type": "float"
        },
        {
         "name": "num_bc_sats",
         "rawType": "float64",
         "type": "float"
        },
        {
         "name": "num_bc_tl",
         "rawType": "float64",
         "type": "float"
        },
        {
         "name": "num_il_tl",
         "rawType": "float64",
         "type": "float"
        },
        {
         "name": "num_op_rev_tl",
         "rawType": "float64",
         "type": "float"
        },
        {
         "name": "num_rev_accts",
         "rawType": "float64",
         "type": "float"
        },
        {
         "name": "num_rev_tl_bal_gt_0",
         "rawType": "float64",
         "type": "float"
        },
        {
         "name": "num_sats",
         "rawType": "float64",
         "type": "float"
        },
        {
         "name": "num_tl_120dpd_2m",
         "rawType": "float64",
         "type": "float"
        },
        {
         "name": "num_tl_30dpd",
         "rawType": "float64",
         "type": "float"
        },
        {
         "name": "num_tl_90g_dpd_24m",
         "rawType": "float64",
         "type": "float"
        },
        {
         "name": "num_tl_op_past_12m",
         "rawType": "float64",
         "type": "float"
        },
        {
         "name": "pct_tl_nvr_dlq",
         "rawType": "float64",
         "type": "float"
        },
        {
         "name": "percent_bc_gt_75",
         "rawType": "float64",
         "type": "float"
        },
        {
         "name": "pub_rec_bankruptcies",
         "rawType": "float64",
         "type": "float"
        },
        {
         "name": "tax_liens",
         "rawType": "float64",
         "type": "float"
        },
        {
         "name": "tot_hi_cred_lim",
         "rawType": "float64",
         "type": "float"
        },
        {
         "name": "total_bal_ex_mort",
         "rawType": "float64",
         "type": "float"
        },
        {
         "name": "total_bc_limit",
         "rawType": "float64",
         "type": "float"
        },
        {
         "name": "total_il_high_credit_limit",
         "rawType": "float64",
         "type": "float"
        },
        {
         "name": "revol_bal_joint",
         "rawType": "float64",
         "type": "float"
        },
        {
         "name": "sec_app_fico_range_low",
         "rawType": "float64",
         "type": "float"
        },
        {
         "name": "sec_app_fico_range_high",
         "rawType": "float64",
         "type": "float"
        },
        {
         "name": "sec_app_earliest_cr_line",
         "rawType": "object",
         "type": "unknown"
        },
        {
         "name": "sec_app_inq_last_6mths",
         "rawType": "float64",
         "type": "float"
        },
        {
         "name": "sec_app_mort_acc",
         "rawType": "float64",
         "type": "float"
        },
        {
         "name": "sec_app_open_acc",
         "rawType": "float64",
         "type": "float"
        },
        {
         "name": "sec_app_revol_util",
         "rawType": "float64",
         "type": "float"
        },
        {
         "name": "sec_app_open_act_il",
         "rawType": "float64",
         "type": "float"
        },
        {
         "name": "sec_app_num_rev_accts",
         "rawType": "float64",
         "type": "float"
        },
        {
         "name": "sec_app_chargeoff_within_12_mths",
         "rawType": "float64",
         "type": "float"
        },
        {
         "name": "sec_app_collections_12_mths_ex_med",
         "rawType": "float64",
         "type": "float"
        },
        {
         "name": "sec_app_mths_since_last_major_derog",
         "rawType": "float64",
         "type": "float"
        },
        {
         "name": "hardship_flag",
         "rawType": "object",
         "type": "string"
        },
        {
         "name": "hardship_type",
         "rawType": "object",
         "type": "unknown"
        },
        {
         "name": "hardship_reason",
         "rawType": "object",
         "type": "unknown"
        },
        {
         "name": "hardship_status",
         "rawType": "object",
         "type": "unknown"
        },
        {
         "name": "deferral_term",
         "rawType": "float64",
         "type": "float"
        },
        {
         "name": "hardship_amount",
         "rawType": "float64",
         "type": "float"
        },
        {
         "name": "hardship_start_date",
         "rawType": "object",
         "type": "unknown"
        },
        {
         "name": "hardship_end_date",
         "rawType": "object",
         "type": "unknown"
        },
        {
         "name": "payment_plan_start_date",
         "rawType": "object",
         "type": "unknown"
        },
        {
         "name": "hardship_length",
         "rawType": "float64",
         "type": "float"
        },
        {
         "name": "hardship_dpd",
         "rawType": "float64",
         "type": "float"
        },
        {
         "name": "hardship_loan_status",
         "rawType": "object",
         "type": "unknown"
        },
        {
         "name": "orig_projected_additional_accrued_interest",
         "rawType": "float64",
         "type": "float"
        },
        {
         "name": "hardship_payoff_balance_amount",
         "rawType": "float64",
         "type": "float"
        },
        {
         "name": "hardship_last_payment_amount",
         "rawType": "float64",
         "type": "float"
        },
        {
         "name": "disbursement_method",
         "rawType": "object",
         "type": "string"
        },
        {
         "name": "debt_settlement_flag",
         "rawType": "object",
         "type": "string"
        },
        {
         "name": "debt_settlement_flag_date",
         "rawType": "object",
         "type": "unknown"
        },
        {
         "name": "settlement_status",
         "rawType": "object",
         "type": "unknown"
        },
        {
         "name": "settlement_date",
         "rawType": "object",
         "type": "unknown"
        },
        {
         "name": "settlement_amount",
         "rawType": "float64",
         "type": "float"
        },
        {
         "name": "settlement_percentage",
         "rawType": "float64",
         "type": "float"
        },
        {
         "name": "settlement_term",
         "rawType": "float64",
         "type": "float"
        }
       ],
       "ref": "510b38c5-6b93-439b-a210-565b9f9f4a2d",
       "rows": [
        [
         "0",
         "68407277",
         null,
         "3600.0",
         "3600.0",
         "3600.0",
         " 36 months",
         "13.99",
         "123.03",
         "C",
         "C4",
         "leadman",
         "10+ years",
         "MORTGAGE",
         "55000.0",
         "Not Verified",
         "Dec-2015",
         "Fully Paid",
         "n",
         "https://lendingclub.com/browse/loanDetail.action?loan_id=68407277",
         null,
         "debt_consolidation",
         "Debt consolidation",
         "190xx",
         "PA",
         "5.91",
         "0.0",
         "Aug-2003",
         "675.0",
         "679.0",
         "1.0",
         "30.0",
         null,
         "7.0",
         "0.0",
         "2765.0",
         "29.7",
         "13.0",
         "w",
         "0.0",
         "0.0",
         "4421.723916800001",
         "4421.72",
         "3600.0",
         "821.72",
         "0.0",
         "0.0",
         "0.0",
         "Jan-2019",
         "122.67",
         null,
         "Mar-2019",
         "564.0",
         "560.0",
         "0.0",
         "30.0",
         "1.0",
         "Individual",
         null,
         null,
         null,
         "0.0",
         "722.0",
         "144904.0",
         "2.0",
         "2.0",
         "0.0",
         "1.0",
         "21.0",
         "4981.0",
         "36.0",
         "3.0",
         "3.0",
         "722.0",
         "34.0",
         "9300.0",
         "3.0",
         "1.0",
         "4.0",
         "4.0",
         "20701.0",
         "1506.0",
         "37.2",
         "0.0",
         "0.0",
         "148.0",
         "128.0",
         "3.0",
         "3.0",
         "1.0",
         "4.0",
         "69.0",
         "4.0",
         "69.0",
         "2.0",
         "2.0",
         "4.0",
         "2.0",
         "5.0",
         "3.0",
         "4.0",
         "9.0",
         "4.0",
         "7.0",
         "0.0",
         "0.0",
         "0.0",
         "3.0",
         "76.9",
         "0.0",
         "0.0",
         "0.0",
         "178050.0",
         "7746.0",
         "2400.0",
         "13734.0",
         null,
         null,
         null,
         null,
         null,
         null,
         null,
         null,
         null,
         null,
         null,
         null,
         null,
         "N",
         null,
         null,
         null,
         null,
         null,
         null,
         null,
         null,
         null,
         null,
         null,
         null,
         null,
         null,
         "Cash",
         "N",
         null,
         null,
         null,
         null,
         null,
         null
        ],
        [
         "1",
         "68355089",
         null,
         "24700.0",
         "24700.0",
         "24700.0",
         " 36 months",
         "11.99",
         "820.28",
         "C",
         "C1",
         "Engineer",
         "10+ years",
         "MORTGAGE",
         "65000.0",
         "Not Verified",
         "Dec-2015",
         "Fully Paid",
         "n",
         "https://lendingclub.com/browse/loanDetail.action?loan_id=68355089",
         null,
         "small_business",
         "Business",
         "577xx",
         "SD",
         "16.06",
         "1.0",
         "Dec-1999",
         "715.0",
         "719.0",
         "4.0",
         "6.0",
         null,
         "22.0",
         "0.0",
         "21470.0",
         "19.2",
         "38.0",
         "w",
         "0.0",
         "0.0",
         "25679.66",
         "25679.66",
         "24700.0",
         "979.66",
         "0.0",
         "0.0",
         "0.0",
         "Jun-2016",
         "926.35",
         null,
         "Mar-2019",
         "699.0",
         "695.0",
         "0.0",
         null,
         "1.0",
         "Individual",
         null,
         null,
         null,
         "0.0",
         "0.0",
         "204396.0",
         "1.0",
         "1.0",
         "0.0",
         "1.0",
         "19.0",
         "18005.0",
         "73.0",
         "2.0",
         "3.0",
         "6472.0",
         "29.0",
         "111800.0",
         "0.0",
         "0.0",
         "6.0",
         "4.0",
         "9733.0",
         "57830.0",
         "27.1",
         "0.0",
         "0.0",
         "113.0",
         "192.0",
         "2.0",
         "2.0",
         "4.0",
         "2.0",
         null,
         "0.0",
         "6.0",
         "0.0",
         "5.0",
         "5.0",
         "13.0",
         "17.0",
         "6.0",
         "20.0",
         "27.0",
         "5.0",
         "22.0",
         "0.0",
         "0.0",
         "0.0",
         "2.0",
         "97.4",
         "7.7",
         "0.0",
         "0.0",
         "314017.0",
         "39475.0",
         "79300.0",
         "24667.0",
         null,
         null,
         null,
         null,
         null,
         null,
         null,
         null,
         null,
         null,
         null,
         null,
         null,
         "N",
         null,
         null,
         null,
         null,
         null,
         null,
         null,
         null,
         null,
         null,
         null,
         null,
         null,
         null,
         "Cash",
         "N",
         null,
         null,
         null,
         null,
         null,
         null
        ],
        [
         "2",
         "68341763",
         null,
         "20000.0",
         "20000.0",
         "20000.0",
         " 60 months",
         "10.78",
         "432.66",
         "B",
         "B4",
         "truck driver",
         "10+ years",
         "MORTGAGE",
         "63000.0",
         "Not Verified",
         "Dec-2015",
         "Fully Paid",
         "n",
         "https://lendingclub.com/browse/loanDetail.action?loan_id=68341763",
         null,
         "home_improvement",
         null,
         "605xx",
         "IL",
         "10.78",
         "0.0",
         "Aug-2000",
         "695.0",
         "699.0",
         "0.0",
         null,
         null,
         "6.0",
         "0.0",
         "7869.0",
         "56.2",
         "18.0",
         "w",
         "0.0",
         "0.0",
         "22705.9242938784",
         "22705.92",
         "20000.0",
         "2705.92",
         "0.0",
         "0.0",
         "0.0",
         "Jun-2017",
         "15813.3",
         null,
         "Mar-2019",
         "704.0",
         "700.0",
         "0.0",
         null,
         "1.0",
         "Joint App",
         "71000.0",
         "13.85",
         "Not Verified",
         "0.0",
         "0.0",
         "189699.0",
         "0.0",
         "1.0",
         "0.0",
         "4.0",
         "19.0",
         "10827.0",
         "73.0",
         "0.0",
         "2.0",
         "2081.0",
         "65.0",
         "14000.0",
         "2.0",
         "5.0",
         "1.0",
         "6.0",
         "31617.0",
         "2737.0",
         "55.9",
         "0.0",
         "0.0",
         "125.0",
         "184.0",
         "14.0",
         "14.0",
         "5.0",
         "101.0",
         null,
         "10.0",
         null,
         "0.0",
         "2.0",
         "3.0",
         "2.0",
         "4.0",
         "6.0",
         "4.0",
         "7.0",
         "3.0",
         "6.0",
         "0.0",
         "0.0",
         "0.0",
         "0.0",
         "100.0",
         "50.0",
         "0.0",
         "0.0",
         "218418.0",
         "18696.0",
         "6200.0",
         "14877.0",
         null,
         null,
         null,
         null,
         null,
         null,
         null,
         null,
         null,
         null,
         null,
         null,
         null,
         "N",
         null,
         null,
         null,
         null,
         null,
         null,
         null,
         null,
         null,
         null,
         null,
         null,
         null,
         null,
         "Cash",
         "N",
         null,
         null,
         null,
         null,
         null,
         null
        ],
        [
         "3",
         "66310712",
         null,
         "35000.0",
         "35000.0",
         "35000.0",
         " 60 months",
         "14.85",
         "829.9",
         "C",
         "C5",
         "Information Systems Officer",
         "10+ years",
         "MORTGAGE",
         "110000.0",
         "Source Verified",
         "Dec-2015",
         "Current",
         "n",
         "https://lendingclub.com/browse/loanDetail.action?loan_id=66310712",
         null,
         "debt_consolidation",
         "Debt consolidation",
         "076xx",
         "NJ",
         "17.06",
         "0.0",
         "Sep-2008",
         "785.0",
         "789.0",
         "0.0",
         null,
         null,
         "13.0",
         "0.0",
         "7802.0",
         "11.6",
         "17.0",
         "w",
         "15897.65",
         "15897.65",
         "31464.01",
         "31464.01",
         "19102.35",
         "12361.66",
         "0.0",
         "0.0",
         "0.0",
         "Feb-2019",
         "829.9",
         "Apr-2019",
         "Mar-2019",
         "679.0",
         "675.0",
         "0.0",
         null,
         "1.0",
         "Individual",
         null,
         null,
         null,
         "0.0",
         "0.0",
         "301500.0",
         "1.0",
         "1.0",
         "0.0",
         "1.0",
         "23.0",
         "12609.0",
         "70.0",
         "1.0",
         "1.0",
         "6987.0",
         "45.0",
         "67300.0",
         "0.0",
         "1.0",
         "0.0",
         "2.0",
         "23192.0",
         "54962.0",
         "12.1",
         "0.0",
         "0.0",
         "36.0",
         "87.0",
         "2.0",
         "2.0",
         "1.0",
         "2.0",
         null,
         null,
         null,
         "0.0",
         "4.0",
         "5.0",
         "8.0",
         "10.0",
         "2.0",
         "10.0",
         "13.0",
         "5.0",
         "13.0",
         "0.0",
         "0.0",
         "0.0",
         "1.0",
         "100.0",
         "0.0",
         "0.0",
         "0.0",
         "381215.0",
         "52226.0",
         "62500.0",
         "18000.0",
         null,
         null,
         null,
         null,
         null,
         null,
         null,
         null,
         null,
         null,
         null,
         null,
         null,
         "N",
         null,
         null,
         null,
         null,
         null,
         null,
         null,
         null,
         null,
         null,
         null,
         null,
         null,
         null,
         "Cash",
         "N",
         null,
         null,
         null,
         null,
         null,
         null
        ],
        [
         "4",
         "68476807",
         null,
         "10400.0",
         "10400.0",
         "10400.0",
         " 60 months",
         "22.45",
         "289.91",
         "F",
         "F1",
         "Contract Specialist",
         "3 years",
         "MORTGAGE",
         "104433.0",
         "Source Verified",
         "Dec-2015",
         "Fully Paid",
         "n",
         "https://lendingclub.com/browse/loanDetail.action?loan_id=68476807",
         null,
         "major_purchase",
         "Major purchase",
         "174xx",
         "PA",
         "25.37",
         "1.0",
         "Jun-1998",
         "695.0",
         "699.0",
         "3.0",
         "12.0",
         null,
         "12.0",
         "0.0",
         "21929.0",
         "64.5",
         "35.0",
         "w",
         "0.0",
         "0.0",
         "11740.5",
         "11740.5",
         "10400.0",
         "1340.5",
         "0.0",
         "0.0",
         "0.0",
         "Jul-2016",
         "10128.96",
         null,
         "Mar-2018",
         "704.0",
         "700.0",
         "0.0",
         null,
         "1.0",
         "Individual",
         null,
         null,
         null,
         "0.0",
         "0.0",
         "331730.0",
         "1.0",
         "3.0",
         "0.0",
         "3.0",
         "14.0",
         "73839.0",
         "84.0",
         "4.0",
         "7.0",
         "9702.0",
         "78.0",
         "34000.0",
         "2.0",
         "1.0",
         "3.0",
         "10.0",
         "27644.0",
         "4567.0",
         "77.5",
         "0.0",
         "0.0",
         "128.0",
         "210.0",
         "4.0",
         "4.0",
         "6.0",
         "4.0",
         "12.0",
         "1.0",
         "12.0",
         "0.0",
         "4.0",
         "6.0",
         "5.0",
         "9.0",
         "10.0",
         "7.0",
         "19.0",
         "6.0",
         "12.0",
         "0.0",
         "0.0",
         "0.0",
         "4.0",
         "96.6",
         "60.0",
         "0.0",
         "0.0",
         "439570.0",
         "95768.0",
         "20300.0",
         "88097.0",
         null,
         null,
         null,
         null,
         null,
         null,
         null,
         null,
         null,
         null,
         null,
         null,
         null,
         "N",
         null,
         null,
         null,
         null,
         null,
         null,
         null,
         null,
         null,
         null,
         null,
         null,
         null,
         null,
         "Cash",
         "N",
         null,
         null,
         null,
         null,
         null,
         null
        ]
       ],
       "shape": {
        "columns": 151,
        "rows": 5
       }
      },
      "text/html": [
       "<div>\n",
       "<style scoped>\n",
       "    .dataframe tbody tr th:only-of-type {\n",
       "        vertical-align: middle;\n",
       "    }\n",
       "\n",
       "    .dataframe tbody tr th {\n",
       "        vertical-align: top;\n",
       "    }\n",
       "\n",
       "    .dataframe thead th {\n",
       "        text-align: right;\n",
       "    }\n",
       "</style>\n",
       "<table border=\"1\" class=\"dataframe\">\n",
       "  <thead>\n",
       "    <tr style=\"text-align: right;\">\n",
       "      <th></th>\n",
       "      <th>id</th>\n",
       "      <th>member_id</th>\n",
       "      <th>loan_amnt</th>\n",
       "      <th>funded_amnt</th>\n",
       "      <th>funded_amnt_inv</th>\n",
       "      <th>term</th>\n",
       "      <th>int_rate</th>\n",
       "      <th>installment</th>\n",
       "      <th>grade</th>\n",
       "      <th>sub_grade</th>\n",
       "      <th>...</th>\n",
       "      <th>hardship_payoff_balance_amount</th>\n",
       "      <th>hardship_last_payment_amount</th>\n",
       "      <th>disbursement_method</th>\n",
       "      <th>debt_settlement_flag</th>\n",
       "      <th>debt_settlement_flag_date</th>\n",
       "      <th>settlement_status</th>\n",
       "      <th>settlement_date</th>\n",
       "      <th>settlement_amount</th>\n",
       "      <th>settlement_percentage</th>\n",
       "      <th>settlement_term</th>\n",
       "    </tr>\n",
       "  </thead>\n",
       "  <tbody>\n",
       "    <tr>\n",
       "      <th>0</th>\n",
       "      <td>68407277</td>\n",
       "      <td>NaN</td>\n",
       "      <td>3600.0</td>\n",
       "      <td>3600.0</td>\n",
       "      <td>3600.0</td>\n",
       "      <td>36 months</td>\n",
       "      <td>13.99</td>\n",
       "      <td>123.03</td>\n",
       "      <td>C</td>\n",
       "      <td>C4</td>\n",
       "      <td>...</td>\n",
       "      <td>NaN</td>\n",
       "      <td>NaN</td>\n",
       "      <td>Cash</td>\n",
       "      <td>N</td>\n",
       "      <td>NaN</td>\n",
       "      <td>NaN</td>\n",
       "      <td>NaN</td>\n",
       "      <td>NaN</td>\n",
       "      <td>NaN</td>\n",
       "      <td>NaN</td>\n",
       "    </tr>\n",
       "    <tr>\n",
       "      <th>1</th>\n",
       "      <td>68355089</td>\n",
       "      <td>NaN</td>\n",
       "      <td>24700.0</td>\n",
       "      <td>24700.0</td>\n",
       "      <td>24700.0</td>\n",
       "      <td>36 months</td>\n",
       "      <td>11.99</td>\n",
       "      <td>820.28</td>\n",
       "      <td>C</td>\n",
       "      <td>C1</td>\n",
       "      <td>...</td>\n",
       "      <td>NaN</td>\n",
       "      <td>NaN</td>\n",
       "      <td>Cash</td>\n",
       "      <td>N</td>\n",
       "      <td>NaN</td>\n",
       "      <td>NaN</td>\n",
       "      <td>NaN</td>\n",
       "      <td>NaN</td>\n",
       "      <td>NaN</td>\n",
       "      <td>NaN</td>\n",
       "    </tr>\n",
       "    <tr>\n",
       "      <th>2</th>\n",
       "      <td>68341763</td>\n",
       "      <td>NaN</td>\n",
       "      <td>20000.0</td>\n",
       "      <td>20000.0</td>\n",
       "      <td>20000.0</td>\n",
       "      <td>60 months</td>\n",
       "      <td>10.78</td>\n",
       "      <td>432.66</td>\n",
       "      <td>B</td>\n",
       "      <td>B4</td>\n",
       "      <td>...</td>\n",
       "      <td>NaN</td>\n",
       "      <td>NaN</td>\n",
       "      <td>Cash</td>\n",
       "      <td>N</td>\n",
       "      <td>NaN</td>\n",
       "      <td>NaN</td>\n",
       "      <td>NaN</td>\n",
       "      <td>NaN</td>\n",
       "      <td>NaN</td>\n",
       "      <td>NaN</td>\n",
       "    </tr>\n",
       "    <tr>\n",
       "      <th>3</th>\n",
       "      <td>66310712</td>\n",
       "      <td>NaN</td>\n",
       "      <td>35000.0</td>\n",
       "      <td>35000.0</td>\n",
       "      <td>35000.0</td>\n",
       "      <td>60 months</td>\n",
       "      <td>14.85</td>\n",
       "      <td>829.90</td>\n",
       "      <td>C</td>\n",
       "      <td>C5</td>\n",
       "      <td>...</td>\n",
       "      <td>NaN</td>\n",
       "      <td>NaN</td>\n",
       "      <td>Cash</td>\n",
       "      <td>N</td>\n",
       "      <td>NaN</td>\n",
       "      <td>NaN</td>\n",
       "      <td>NaN</td>\n",
       "      <td>NaN</td>\n",
       "      <td>NaN</td>\n",
       "      <td>NaN</td>\n",
       "    </tr>\n",
       "    <tr>\n",
       "      <th>4</th>\n",
       "      <td>68476807</td>\n",
       "      <td>NaN</td>\n",
       "      <td>10400.0</td>\n",
       "      <td>10400.0</td>\n",
       "      <td>10400.0</td>\n",
       "      <td>60 months</td>\n",
       "      <td>22.45</td>\n",
       "      <td>289.91</td>\n",
       "      <td>F</td>\n",
       "      <td>F1</td>\n",
       "      <td>...</td>\n",
       "      <td>NaN</td>\n",
       "      <td>NaN</td>\n",
       "      <td>Cash</td>\n",
       "      <td>N</td>\n",
       "      <td>NaN</td>\n",
       "      <td>NaN</td>\n",
       "      <td>NaN</td>\n",
       "      <td>NaN</td>\n",
       "      <td>NaN</td>\n",
       "      <td>NaN</td>\n",
       "    </tr>\n",
       "  </tbody>\n",
       "</table>\n",
       "<p>5 rows × 151 columns</p>\n",
       "</div>"
      ],
      "text/plain": [
       "         id  member_id  loan_amnt  funded_amnt  funded_amnt_inv        term  \\\n",
       "0  68407277        NaN     3600.0       3600.0           3600.0   36 months   \n",
       "1  68355089        NaN    24700.0      24700.0          24700.0   36 months   \n",
       "2  68341763        NaN    20000.0      20000.0          20000.0   60 months   \n",
       "3  66310712        NaN    35000.0      35000.0          35000.0   60 months   \n",
       "4  68476807        NaN    10400.0      10400.0          10400.0   60 months   \n",
       "\n",
       "   int_rate  installment grade sub_grade  ... hardship_payoff_balance_amount  \\\n",
       "0     13.99       123.03     C        C4  ...                            NaN   \n",
       "1     11.99       820.28     C        C1  ...                            NaN   \n",
       "2     10.78       432.66     B        B4  ...                            NaN   \n",
       "3     14.85       829.90     C        C5  ...                            NaN   \n",
       "4     22.45       289.91     F        F1  ...                            NaN   \n",
       "\n",
       "  hardship_last_payment_amount disbursement_method  debt_settlement_flag  \\\n",
       "0                          NaN                Cash                     N   \n",
       "1                          NaN                Cash                     N   \n",
       "2                          NaN                Cash                     N   \n",
       "3                          NaN                Cash                     N   \n",
       "4                          NaN                Cash                     N   \n",
       "\n",
       "  debt_settlement_flag_date settlement_status settlement_date  \\\n",
       "0                       NaN               NaN             NaN   \n",
       "1                       NaN               NaN             NaN   \n",
       "2                       NaN               NaN             NaN   \n",
       "3                       NaN               NaN             NaN   \n",
       "4                       NaN               NaN             NaN   \n",
       "\n",
       "  settlement_amount settlement_percentage settlement_term  \n",
       "0               NaN                   NaN             NaN  \n",
       "1               NaN                   NaN             NaN  \n",
       "2               NaN                   NaN             NaN  \n",
       "3               NaN                   NaN             NaN  \n",
       "4               NaN                   NaN             NaN  \n",
       "\n",
       "[5 rows x 151 columns]"
      ]
     },
     "execution_count": 4,
     "metadata": {},
     "output_type": "execute_result"
    }
   ],
   "source": [
    "# Use correct file path and filename\n",
    "filepath = os.path.join(path, \"accepted_2007_to_2018Q4.csv.gz\")\n",
    "\n",
    "df = pd.read_csv(filepath, low_memory=False)\n",
    "df.head()"
   ]
  },
  {
   "cell_type": "markdown",
   "metadata": {
    "id": "IkyCsUnc4loM"
   },
   "source": [
    "## Filter out relevent columns for our research question"
   ]
  },
  {
   "cell_type": "code",
   "execution_count": 5,
   "metadata": {
    "colab": {
     "base_uri": "https://localhost:8080/",
     "height": 342
    },
    "id": "2jV3G_VcxbVf",
    "outputId": "904f9bed-7649-49a5-fd12-016726d64e97"
   },
   "outputs": [
    {
     "data": {
      "application/vnd.microsoft.datawrangler.viewer.v0+json": {
       "columns": [
        {
         "name": "index",
         "rawType": "int64",
         "type": "integer"
        },
        {
         "name": "loan_amnt",
         "rawType": "float64",
         "type": "float"
        },
        {
         "name": "term",
         "rawType": "object",
         "type": "string"
        },
        {
         "name": "int_rate",
         "rawType": "float64",
         "type": "float"
        },
        {
         "name": "grade",
         "rawType": "object",
         "type": "string"
        },
        {
         "name": "purpose",
         "rawType": "object",
         "type": "string"
        },
        {
         "name": "annual_inc",
         "rawType": "float64",
         "type": "float"
        },
        {
         "name": "dti",
         "rawType": "float64",
         "type": "float"
        },
        {
         "name": "delinq_2yrs",
         "rawType": "float64",
         "type": "float"
        },
        {
         "name": "inq_last_6mths",
         "rawType": "float64",
         "type": "float"
        },
        {
         "name": "home_ownership",
         "rawType": "object",
         "type": "string"
        },
        {
         "name": "emp_length",
         "rawType": "object",
         "type": "string"
        },
        {
         "name": "fico_range_low",
         "rawType": "float64",
         "type": "float"
        },
        {
         "name": "fico_range_high",
         "rawType": "float64",
         "type": "float"
        },
        {
         "name": "issue_d",
         "rawType": "object",
         "type": "string"
        },
        {
         "name": "earliest_cr_line",
         "rawType": "object",
         "type": "string"
        },
        {
         "name": "open_acc",
         "rawType": "float64",
         "type": "float"
        },
        {
         "name": "pub_rec",
         "rawType": "float64",
         "type": "float"
        },
        {
         "name": "revol_bal",
         "rawType": "float64",
         "type": "float"
        },
        {
         "name": "revol_util",
         "rawType": "float64",
         "type": "float"
        },
        {
         "name": "total_acc",
         "rawType": "float64",
         "type": "float"
        },
        {
         "name": "verification_status",
         "rawType": "object",
         "type": "string"
        },
        {
         "name": "application_type",
         "rawType": "object",
         "type": "string"
        },
        {
         "name": "addr_state",
         "rawType": "object",
         "type": "string"
        },
        {
         "name": "loan_status",
         "rawType": "object",
         "type": "string"
        }
       ],
       "ref": "997ac493-c783-417e-95ea-00ade1648aa2",
       "rows": [
        [
         "0",
         "3600.0",
         " 36 months",
         "13.99",
         "C",
         "debt_consolidation",
         "55000.0",
         "5.91",
         "0.0",
         "1.0",
         "MORTGAGE",
         "10+ years",
         "675.0",
         "679.0",
         "Dec-2015",
         "Aug-2003",
         "7.0",
         "0.0",
         "2765.0",
         "29.7",
         "13.0",
         "Not Verified",
         "Individual",
         "PA",
         "Fully Paid"
        ],
        [
         "1",
         "24700.0",
         " 36 months",
         "11.99",
         "C",
         "small_business",
         "65000.0",
         "16.06",
         "1.0",
         "4.0",
         "MORTGAGE",
         "10+ years",
         "715.0",
         "719.0",
         "Dec-2015",
         "Dec-1999",
         "22.0",
         "0.0",
         "21470.0",
         "19.2",
         "38.0",
         "Not Verified",
         "Individual",
         "SD",
         "Fully Paid"
        ],
        [
         "2",
         "20000.0",
         " 60 months",
         "10.78",
         "B",
         "home_improvement",
         "63000.0",
         "10.78",
         "0.0",
         "0.0",
         "MORTGAGE",
         "10+ years",
         "695.0",
         "699.0",
         "Dec-2015",
         "Aug-2000",
         "6.0",
         "0.0",
         "7869.0",
         "56.2",
         "18.0",
         "Not Verified",
         "Joint App",
         "IL",
         "Fully Paid"
        ],
        [
         "3",
         "35000.0",
         " 60 months",
         "14.85",
         "C",
         "debt_consolidation",
         "110000.0",
         "17.06",
         "0.0",
         "0.0",
         "MORTGAGE",
         "10+ years",
         "785.0",
         "789.0",
         "Dec-2015",
         "Sep-2008",
         "13.0",
         "0.0",
         "7802.0",
         "11.6",
         "17.0",
         "Source Verified",
         "Individual",
         "NJ",
         "Current"
        ],
        [
         "4",
         "10400.0",
         " 60 months",
         "22.45",
         "F",
         "major_purchase",
         "104433.0",
         "25.37",
         "1.0",
         "3.0",
         "MORTGAGE",
         "3 years",
         "695.0",
         "699.0",
         "Dec-2015",
         "Jun-1998",
         "12.0",
         "0.0",
         "21929.0",
         "64.5",
         "35.0",
         "Source Verified",
         "Individual",
         "PA",
         "Fully Paid"
        ]
       ],
       "shape": {
        "columns": 24,
        "rows": 5
       }
      },
      "text/html": [
       "<div>\n",
       "<style scoped>\n",
       "    .dataframe tbody tr th:only-of-type {\n",
       "        vertical-align: middle;\n",
       "    }\n",
       "\n",
       "    .dataframe tbody tr th {\n",
       "        vertical-align: top;\n",
       "    }\n",
       "\n",
       "    .dataframe thead th {\n",
       "        text-align: right;\n",
       "    }\n",
       "</style>\n",
       "<table border=\"1\" class=\"dataframe\">\n",
       "  <thead>\n",
       "    <tr style=\"text-align: right;\">\n",
       "      <th></th>\n",
       "      <th>loan_amnt</th>\n",
       "      <th>term</th>\n",
       "      <th>int_rate</th>\n",
       "      <th>grade</th>\n",
       "      <th>purpose</th>\n",
       "      <th>annual_inc</th>\n",
       "      <th>dti</th>\n",
       "      <th>delinq_2yrs</th>\n",
       "      <th>inq_last_6mths</th>\n",
       "      <th>home_ownership</th>\n",
       "      <th>...</th>\n",
       "      <th>earliest_cr_line</th>\n",
       "      <th>open_acc</th>\n",
       "      <th>pub_rec</th>\n",
       "      <th>revol_bal</th>\n",
       "      <th>revol_util</th>\n",
       "      <th>total_acc</th>\n",
       "      <th>verification_status</th>\n",
       "      <th>application_type</th>\n",
       "      <th>addr_state</th>\n",
       "      <th>loan_status</th>\n",
       "    </tr>\n",
       "  </thead>\n",
       "  <tbody>\n",
       "    <tr>\n",
       "      <th>0</th>\n",
       "      <td>3600.0</td>\n",
       "      <td>36 months</td>\n",
       "      <td>13.99</td>\n",
       "      <td>C</td>\n",
       "      <td>debt_consolidation</td>\n",
       "      <td>55000.0</td>\n",
       "      <td>5.91</td>\n",
       "      <td>0.0</td>\n",
       "      <td>1.0</td>\n",
       "      <td>MORTGAGE</td>\n",
       "      <td>...</td>\n",
       "      <td>Aug-2003</td>\n",
       "      <td>7.0</td>\n",
       "      <td>0.0</td>\n",
       "      <td>2765.0</td>\n",
       "      <td>29.7</td>\n",
       "      <td>13.0</td>\n",
       "      <td>Not Verified</td>\n",
       "      <td>Individual</td>\n",
       "      <td>PA</td>\n",
       "      <td>Fully Paid</td>\n",
       "    </tr>\n",
       "    <tr>\n",
       "      <th>1</th>\n",
       "      <td>24700.0</td>\n",
       "      <td>36 months</td>\n",
       "      <td>11.99</td>\n",
       "      <td>C</td>\n",
       "      <td>small_business</td>\n",
       "      <td>65000.0</td>\n",
       "      <td>16.06</td>\n",
       "      <td>1.0</td>\n",
       "      <td>4.0</td>\n",
       "      <td>MORTGAGE</td>\n",
       "      <td>...</td>\n",
       "      <td>Dec-1999</td>\n",
       "      <td>22.0</td>\n",
       "      <td>0.0</td>\n",
       "      <td>21470.0</td>\n",
       "      <td>19.2</td>\n",
       "      <td>38.0</td>\n",
       "      <td>Not Verified</td>\n",
       "      <td>Individual</td>\n",
       "      <td>SD</td>\n",
       "      <td>Fully Paid</td>\n",
       "    </tr>\n",
       "    <tr>\n",
       "      <th>2</th>\n",
       "      <td>20000.0</td>\n",
       "      <td>60 months</td>\n",
       "      <td>10.78</td>\n",
       "      <td>B</td>\n",
       "      <td>home_improvement</td>\n",
       "      <td>63000.0</td>\n",
       "      <td>10.78</td>\n",
       "      <td>0.0</td>\n",
       "      <td>0.0</td>\n",
       "      <td>MORTGAGE</td>\n",
       "      <td>...</td>\n",
       "      <td>Aug-2000</td>\n",
       "      <td>6.0</td>\n",
       "      <td>0.0</td>\n",
       "      <td>7869.0</td>\n",
       "      <td>56.2</td>\n",
       "      <td>18.0</td>\n",
       "      <td>Not Verified</td>\n",
       "      <td>Joint App</td>\n",
       "      <td>IL</td>\n",
       "      <td>Fully Paid</td>\n",
       "    </tr>\n",
       "    <tr>\n",
       "      <th>3</th>\n",
       "      <td>35000.0</td>\n",
       "      <td>60 months</td>\n",
       "      <td>14.85</td>\n",
       "      <td>C</td>\n",
       "      <td>debt_consolidation</td>\n",
       "      <td>110000.0</td>\n",
       "      <td>17.06</td>\n",
       "      <td>0.0</td>\n",
       "      <td>0.0</td>\n",
       "      <td>MORTGAGE</td>\n",
       "      <td>...</td>\n",
       "      <td>Sep-2008</td>\n",
       "      <td>13.0</td>\n",
       "      <td>0.0</td>\n",
       "      <td>7802.0</td>\n",
       "      <td>11.6</td>\n",
       "      <td>17.0</td>\n",
       "      <td>Source Verified</td>\n",
       "      <td>Individual</td>\n",
       "      <td>NJ</td>\n",
       "      <td>Current</td>\n",
       "    </tr>\n",
       "    <tr>\n",
       "      <th>4</th>\n",
       "      <td>10400.0</td>\n",
       "      <td>60 months</td>\n",
       "      <td>22.45</td>\n",
       "      <td>F</td>\n",
       "      <td>major_purchase</td>\n",
       "      <td>104433.0</td>\n",
       "      <td>25.37</td>\n",
       "      <td>1.0</td>\n",
       "      <td>3.0</td>\n",
       "      <td>MORTGAGE</td>\n",
       "      <td>...</td>\n",
       "      <td>Jun-1998</td>\n",
       "      <td>12.0</td>\n",
       "      <td>0.0</td>\n",
       "      <td>21929.0</td>\n",
       "      <td>64.5</td>\n",
       "      <td>35.0</td>\n",
       "      <td>Source Verified</td>\n",
       "      <td>Individual</td>\n",
       "      <td>PA</td>\n",
       "      <td>Fully Paid</td>\n",
       "    </tr>\n",
       "  </tbody>\n",
       "</table>\n",
       "<p>5 rows × 24 columns</p>\n",
       "</div>"
      ],
      "text/plain": [
       "   loan_amnt        term  int_rate grade             purpose  annual_inc  \\\n",
       "0     3600.0   36 months     13.99     C  debt_consolidation     55000.0   \n",
       "1    24700.0   36 months     11.99     C      small_business     65000.0   \n",
       "2    20000.0   60 months     10.78     B    home_improvement     63000.0   \n",
       "3    35000.0   60 months     14.85     C  debt_consolidation    110000.0   \n",
       "4    10400.0   60 months     22.45     F      major_purchase    104433.0   \n",
       "\n",
       "     dti  delinq_2yrs  inq_last_6mths home_ownership  ... earliest_cr_line  \\\n",
       "0   5.91          0.0             1.0       MORTGAGE  ...         Aug-2003   \n",
       "1  16.06          1.0             4.0       MORTGAGE  ...         Dec-1999   \n",
       "2  10.78          0.0             0.0       MORTGAGE  ...         Aug-2000   \n",
       "3  17.06          0.0             0.0       MORTGAGE  ...         Sep-2008   \n",
       "4  25.37          1.0             3.0       MORTGAGE  ...         Jun-1998   \n",
       "\n",
       "   open_acc  pub_rec revol_bal revol_util  total_acc  verification_status  \\\n",
       "0       7.0      0.0    2765.0       29.7       13.0         Not Verified   \n",
       "1      22.0      0.0   21470.0       19.2       38.0         Not Verified   \n",
       "2       6.0      0.0    7869.0       56.2       18.0         Not Verified   \n",
       "3      13.0      0.0    7802.0       11.6       17.0      Source Verified   \n",
       "4      12.0      0.0   21929.0       64.5       35.0      Source Verified   \n",
       "\n",
       "   application_type  addr_state  loan_status  \n",
       "0        Individual          PA   Fully Paid  \n",
       "1        Individual          SD   Fully Paid  \n",
       "2         Joint App          IL   Fully Paid  \n",
       "3        Individual          NJ      Current  \n",
       "4        Individual          PA   Fully Paid  \n",
       "\n",
       "[5 rows x 24 columns]"
      ]
     },
     "execution_count": 5,
     "metadata": {},
     "output_type": "execute_result"
    }
   ],
   "source": [
    "relevant_columns = [\n",
    "    # Loan Characteristics\n",
    "    \"loan_amnt\",\n",
    "    \"term\",\n",
    "    \"int_rate\",\n",
    "    \"grade\",\n",
    "    \"purpose\",\n",
    "    # Borrower's Financials & History\n",
    "    \"annual_inc\",\n",
    "    \"dti\",\n",
    "    \"delinq_2yrs\",\n",
    "    \"inq_last_6mths\",\n",
    "    \"home_ownership\",\n",
    "    \"emp_length\",\n",
    "    \"fico_range_low\",\n",
    "    \"fico_range_high\",\n",
    "    \"issue_d\",\n",
    "    \"earliest_cr_line\",\n",
    "    \"open_acc\",\n",
    "    \"pub_rec\",\n",
    "    \"revol_bal\",\n",
    "    \"revol_util\",\n",
    "    \"total_acc\",\n",
    "    \"verification_status\",\n",
    "    \"application_type\",\n",
    "    \"addr_state\",\n",
    "    # Target Variable\n",
    "    \"loan_status\",\n",
    "]\n",
    "df = df[relevant_columns]\n",
    "df.head()"
   ]
  },
  {
   "cell_type": "markdown",
   "metadata": {
    "id": "1bu4YlSV2gCE"
   },
   "source": [
    "## Target Variables"
   ]
  },
  {
   "cell_type": "code",
   "execution_count": 6,
   "metadata": {
    "colab": {
     "base_uri": "https://localhost:8080/",
     "height": 397
    },
    "id": "CIfqtz27xn58",
    "outputId": "ccc1f995-3654-4340-8ef4-24e4785d9e31"
   },
   "outputs": [
    {
     "data": {
      "application/vnd.microsoft.datawrangler.viewer.v0+json": {
       "columns": [
        {
         "name": "loan_status",
         "rawType": "object",
         "type": "string"
        },
        {
         "name": "count",
         "rawType": "int64",
         "type": "integer"
        }
       ],
       "ref": "173d81b3-1853-4811-ad2c-6be7a80a9ffc",
       "rows": [
        [
         "Fully Paid",
         "1076751"
        ],
        [
         "Current",
         "878317"
        ],
        [
         "Charged Off",
         "268559"
        ],
        [
         "Late (31-120 days)",
         "21467"
        ],
        [
         "In Grace Period",
         "8436"
        ],
        [
         "Late (16-30 days)",
         "4349"
        ],
        [
         "Does not meet the credit policy. Status:Fully Paid",
         "1988"
        ],
        [
         "Does not meet the credit policy. Status:Charged Off",
         "761"
        ],
        [
         "Default",
         "40"
        ]
       ],
       "shape": {
        "columns": 1,
        "rows": 9
       }
      },
      "text/plain": [
       "loan_status\n",
       "Fully Paid                                             1076751\n",
       "Current                                                 878317\n",
       "Charged Off                                             268559\n",
       "Late (31-120 days)                                       21467\n",
       "In Grace Period                                           8436\n",
       "Late (16-30 days)                                         4349\n",
       "Does not meet the credit policy. Status:Fully Paid        1988\n",
       "Does not meet the credit policy. Status:Charged Off        761\n",
       "Default                                                     40\n",
       "Name: count, dtype: int64"
      ]
     },
     "execution_count": 6,
     "metadata": {},
     "output_type": "execute_result"
    }
   ],
   "source": [
    "df[\"loan_status\"].value_counts()"
   ]
  },
  {
   "cell_type": "markdown",
   "metadata": {
    "id": "t34HigLT28zy"
   },
   "source": [
    "**Target feature change into Binary**"
   ]
  },
  {
   "cell_type": "code",
   "execution_count": 7,
   "metadata": {
    "colab": {
     "base_uri": "https://localhost:8080/",
     "height": 213
    },
    "id": "6L3DbB4qdIAS",
    "outputId": "a8bfab12-b61f-4dbb-e664-7b4b6f6de3e0"
   },
   "outputs": [
    {
     "name": "stdout",
     "output_type": "stream",
     "text": [
      "Original shape: (2260701, 25)\n",
      "Shape after filtering for resolved loans: (1345350, 24)\n"
     ]
    },
    {
     "data": {
      "application/vnd.microsoft.datawrangler.viewer.v0+json": {
       "columns": [
        {
         "name": "is_default",
         "rawType": "int64",
         "type": "integer"
        },
        {
         "name": "count",
         "rawType": "int64",
         "type": "integer"
        }
       ],
       "ref": "43b2fdd0-0c6c-4408-ae6c-5484064a045e",
       "rows": [
        [
         "0",
         "1992102"
        ],
        [
         "1",
         "268599"
        ]
       ],
       "shape": {
        "columns": 1,
        "rows": 2
       }
      },
      "text/plain": [
       "is_default\n",
       "0    1992102\n",
       "1     268599\n",
       "Name: count, dtype: int64"
      ]
     },
     "execution_count": 7,
     "metadata": {},
     "output_type": "execute_result"
    }
   ],
   "source": [
    "# Create a binary target variable: 1 for default, 0 for non-default\n",
    "bad_statuses = [\"Charged Off\", \"Default\"]\n",
    "df[\"is_default\"] = df[\"loan_status\"].apply(lambda x: 1 if x in bad_statuses else 0)\n",
    "\n",
    "# Filter for only loans with a resolved outcome\n",
    "resolved_statuses = [\"Fully Paid\"] + bad_statuses\n",
    "df_cleaned = df[df[\"loan_status\"].isin(resolved_statuses)].copy()\n",
    "df_cleaned = df_cleaned.drop(\"loan_status\", axis=1)\n",
    "\n",
    "print(f\"Original shape: {df.shape}\")\n",
    "print(f\"Shape after filtering for resolved loans: {df_cleaned.shape}\")\n",
    "df[\"is_default\"].value_counts()"
   ]
  },
  {
   "cell_type": "markdown",
   "metadata": {
    "id": "pQBiznKy3JMO"
   },
   "source": [
    "## Missing Values"
   ]
  },
  {
   "cell_type": "code",
   "execution_count": 8,
   "metadata": {
    "colab": {
     "base_uri": "https://localhost:8080/"
    },
    "id": "E69KUeHyiYd_",
    "outputId": "682e5560-b1c4-4733-82c1-daf15e4e4386"
   },
   "outputs": [
    {
     "name": "stderr",
     "output_type": "stream",
     "text": [
      "C:\\Users\\Lenovo\\AppData\\Local\\Temp\\ipykernel_26280\\1951051308.py:16: FutureWarning: A value is trying to be set on a copy of a DataFrame or Series through chained assignment using an inplace method.\n",
      "The behavior will change in pandas 3.0. This inplace method will never work because the intermediate object on which we are setting values always behaves as a copy.\n",
      "\n",
      "For example, when doing 'df[col].method(value, inplace=True)', try using 'df.method({col: value}, inplace=True)' or df[col] = df[col].method(value) instead, to perform the operation inplace on the original object.\n",
      "\n",
      "\n",
      "  df[col].fillna(mean_val, inplace=True)\n",
      "C:\\Users\\Lenovo\\AppData\\Local\\Temp\\ipykernel_26280\\1951051308.py:19: FutureWarning: A value is trying to be set on a copy of a DataFrame or Series through chained assignment using an inplace method.\n",
      "The behavior will change in pandas 3.0. This inplace method will never work because the intermediate object on which we are setting values always behaves as a copy.\n",
      "\n",
      "For example, when doing 'df[col].method(value, inplace=True)', try using 'df.method({col: value}, inplace=True)' or df[col] = df[col].method(value) instead, to perform the operation inplace on the original object.\n",
      "\n",
      "\n",
      "  df[col].fillna(mode_val, inplace=True)\n"
     ]
    },
    {
     "name": "stdout",
     "output_type": "stream",
     "text": [
      "Missing values after filling:\n",
      "loan_amnt              0\n",
      "term                   0\n",
      "int_rate               0\n",
      "grade                  0\n",
      "purpose                0\n",
      "annual_inc             0\n",
      "dti                    0\n",
      "delinq_2yrs            0\n",
      "inq_last_6mths         0\n",
      "home_ownership         0\n",
      "emp_length             0\n",
      "fico_range_low         0\n",
      "fico_range_high        0\n",
      "issue_d                0\n",
      "earliest_cr_line       0\n",
      "open_acc               0\n",
      "pub_rec                0\n",
      "revol_bal              0\n",
      "revol_util             0\n",
      "total_acc              0\n",
      "verification_status    0\n",
      "application_type       0\n",
      "addr_state             0\n",
      "is_default             0\n",
      "dtype: int64\n"
     ]
    }
   ],
   "source": [
    "# Function to fill missing values\n",
    "def fill_missing_values(df):\n",
    "    \"\"\"\n",
    "    Fills missing values in a DataFrame based on column data type.\n",
    "\n",
    "    Args:\n",
    "      df: The input pandas DataFrame.\n",
    "\n",
    "    Returns:\n",
    "      The DataFrame with missing values filled.\n",
    "    \"\"\"\n",
    "    for col in df.columns:\n",
    "        if df[col].isnull().any():\n",
    "            if df[col].dtype in [\"int64\", \"float64\"]:\n",
    "                mean_val = df[col].mean()\n",
    "                df[col].fillna(mean_val, inplace=True)\n",
    "            else:\n",
    "                mode_val = df[col].mode()[0]\n",
    "                df[col].fillna(mode_val, inplace=True)\n",
    "    return df\n",
    "\n",
    "\n",
    "df = fill_missing_values(df_cleaned)\n",
    "\n",
    "print(\"Missing values after filling:\")\n",
    "print(df.isna().sum())"
   ]
  },
  {
   "cell_type": "markdown",
   "metadata": {
    "id": "IX8U1USx3Mr5"
   },
   "source": [
    "## Date time/Category Values"
   ]
  },
  {
   "cell_type": "code",
   "execution_count": 9,
   "metadata": {
    "colab": {
     "base_uri": "https://localhost:8080/"
    },
    "id": "VJORX3ej5DJ2",
    "outputId": "a9e923ca-0874-40d8-e566-e572c8323366"
   },
   "outputs": [
    {
     "name": "stdout",
     "output_type": "stream",
     "text": [
      "<class 'pandas.core.frame.DataFrame'>\n",
      "Index: 1345350 entries, 0 to 2260697\n",
      "Data columns (total 24 columns):\n",
      " #   Column               Non-Null Count    Dtype  \n",
      "---  ------               --------------    -----  \n",
      " 0   loan_amnt            1345350 non-null  float64\n",
      " 1   term                 1345350 non-null  object \n",
      " 2   int_rate             1345350 non-null  float64\n",
      " 3   grade                1345350 non-null  object \n",
      " 4   purpose              1345350 non-null  object \n",
      " 5   annual_inc           1345350 non-null  float64\n",
      " 6   dti                  1345350 non-null  float64\n",
      " 7   delinq_2yrs          1345350 non-null  float64\n",
      " 8   inq_last_6mths       1345350 non-null  float64\n",
      " 9   home_ownership       1345350 non-null  object \n",
      " 10  emp_length           1345350 non-null  object \n",
      " 11  fico_range_low       1345350 non-null  float64\n",
      " 12  fico_range_high      1345350 non-null  float64\n",
      " 13  issue_d              1345350 non-null  object \n",
      " 14  earliest_cr_line     1345350 non-null  object \n",
      " 15  open_acc             1345350 non-null  float64\n",
      " 16  pub_rec              1345350 non-null  float64\n",
      " 17  revol_bal            1345350 non-null  float64\n",
      " 18  revol_util           1345350 non-null  float64\n",
      " 19  total_acc            1345350 non-null  float64\n",
      " 20  verification_status  1345350 non-null  object \n",
      " 21  application_type     1345350 non-null  object \n",
      " 22  addr_state           1345350 non-null  object \n",
      " 23  is_default           1345350 non-null  int64  \n",
      "dtypes: float64(13), int64(1), object(10)\n",
      "memory usage: 256.6+ MB\n"
     ]
    }
   ],
   "source": [
    "df.info()"
   ]
  },
  {
   "cell_type": "code",
   "execution_count": 10,
   "metadata": {
    "colab": {
     "base_uri": "https://localhost:8080/",
     "height": 206
    },
    "id": "ppcpGyGzySCW",
    "outputId": "49b26741-72be-4b6f-f626-bf1d8db203fc"
   },
   "outputs": [
    {
     "data": {
      "application/vnd.microsoft.datawrangler.viewer.v0+json": {
       "columns": [
        {
         "name": "index",
         "rawType": "int64",
         "type": "integer"
        },
        {
         "name": "term",
         "rawType": "object",
         "type": "string"
        },
        {
         "name": "grade",
         "rawType": "object",
         "type": "string"
        },
        {
         "name": "purpose",
         "rawType": "object",
         "type": "string"
        },
        {
         "name": "home_ownership",
         "rawType": "object",
         "type": "string"
        },
        {
         "name": "emp_length",
         "rawType": "object",
         "type": "string"
        },
        {
         "name": "issue_d",
         "rawType": "object",
         "type": "string"
        },
        {
         "name": "earliest_cr_line",
         "rawType": "object",
         "type": "string"
        },
        {
         "name": "verification_status",
         "rawType": "object",
         "type": "string"
        },
        {
         "name": "application_type",
         "rawType": "object",
         "type": "string"
        },
        {
         "name": "addr_state",
         "rawType": "object",
         "type": "string"
        }
       ],
       "ref": "c644892f-4181-4302-8639-523379ef5c90",
       "rows": [
        [
         "0",
         " 36 months",
         "C",
         "debt_consolidation",
         "MORTGAGE",
         "10+ years",
         "Dec-2015",
         "Aug-2003",
         "Not Verified",
         "Individual",
         "PA"
        ],
        [
         "1",
         " 36 months",
         "C",
         "small_business",
         "MORTGAGE",
         "10+ years",
         "Dec-2015",
         "Dec-1999",
         "Not Verified",
         "Individual",
         "SD"
        ],
        [
         "2",
         " 60 months",
         "B",
         "home_improvement",
         "MORTGAGE",
         "10+ years",
         "Dec-2015",
         "Aug-2000",
         "Not Verified",
         "Joint App",
         "IL"
        ],
        [
         "4",
         " 60 months",
         "F",
         "major_purchase",
         "MORTGAGE",
         "3 years",
         "Dec-2015",
         "Jun-1998",
         "Source Verified",
         "Individual",
         "PA"
        ],
        [
         "5",
         " 36 months",
         "C",
         "debt_consolidation",
         "RENT",
         "4 years",
         "Dec-2015",
         "Oct-1987",
         "Source Verified",
         "Individual",
         "GA"
        ]
       ],
       "shape": {
        "columns": 10,
        "rows": 5
       }
      },
      "text/html": [
       "<div>\n",
       "<style scoped>\n",
       "    .dataframe tbody tr th:only-of-type {\n",
       "        vertical-align: middle;\n",
       "    }\n",
       "\n",
       "    .dataframe tbody tr th {\n",
       "        vertical-align: top;\n",
       "    }\n",
       "\n",
       "    .dataframe thead th {\n",
       "        text-align: right;\n",
       "    }\n",
       "</style>\n",
       "<table border=\"1\" class=\"dataframe\">\n",
       "  <thead>\n",
       "    <tr style=\"text-align: right;\">\n",
       "      <th></th>\n",
       "      <th>term</th>\n",
       "      <th>grade</th>\n",
       "      <th>purpose</th>\n",
       "      <th>home_ownership</th>\n",
       "      <th>emp_length</th>\n",
       "      <th>issue_d</th>\n",
       "      <th>earliest_cr_line</th>\n",
       "      <th>verification_status</th>\n",
       "      <th>application_type</th>\n",
       "      <th>addr_state</th>\n",
       "    </tr>\n",
       "  </thead>\n",
       "  <tbody>\n",
       "    <tr>\n",
       "      <th>0</th>\n",
       "      <td>36 months</td>\n",
       "      <td>C</td>\n",
       "      <td>debt_consolidation</td>\n",
       "      <td>MORTGAGE</td>\n",
       "      <td>10+ years</td>\n",
       "      <td>Dec-2015</td>\n",
       "      <td>Aug-2003</td>\n",
       "      <td>Not Verified</td>\n",
       "      <td>Individual</td>\n",
       "      <td>PA</td>\n",
       "    </tr>\n",
       "    <tr>\n",
       "      <th>1</th>\n",
       "      <td>36 months</td>\n",
       "      <td>C</td>\n",
       "      <td>small_business</td>\n",
       "      <td>MORTGAGE</td>\n",
       "      <td>10+ years</td>\n",
       "      <td>Dec-2015</td>\n",
       "      <td>Dec-1999</td>\n",
       "      <td>Not Verified</td>\n",
       "      <td>Individual</td>\n",
       "      <td>SD</td>\n",
       "    </tr>\n",
       "    <tr>\n",
       "      <th>2</th>\n",
       "      <td>60 months</td>\n",
       "      <td>B</td>\n",
       "      <td>home_improvement</td>\n",
       "      <td>MORTGAGE</td>\n",
       "      <td>10+ years</td>\n",
       "      <td>Dec-2015</td>\n",
       "      <td>Aug-2000</td>\n",
       "      <td>Not Verified</td>\n",
       "      <td>Joint App</td>\n",
       "      <td>IL</td>\n",
       "    </tr>\n",
       "    <tr>\n",
       "      <th>4</th>\n",
       "      <td>60 months</td>\n",
       "      <td>F</td>\n",
       "      <td>major_purchase</td>\n",
       "      <td>MORTGAGE</td>\n",
       "      <td>3 years</td>\n",
       "      <td>Dec-2015</td>\n",
       "      <td>Jun-1998</td>\n",
       "      <td>Source Verified</td>\n",
       "      <td>Individual</td>\n",
       "      <td>PA</td>\n",
       "    </tr>\n",
       "    <tr>\n",
       "      <th>5</th>\n",
       "      <td>36 months</td>\n",
       "      <td>C</td>\n",
       "      <td>debt_consolidation</td>\n",
       "      <td>RENT</td>\n",
       "      <td>4 years</td>\n",
       "      <td>Dec-2015</td>\n",
       "      <td>Oct-1987</td>\n",
       "      <td>Source Verified</td>\n",
       "      <td>Individual</td>\n",
       "      <td>GA</td>\n",
       "    </tr>\n",
       "  </tbody>\n",
       "</table>\n",
       "</div>"
      ],
      "text/plain": [
       "         term grade             purpose home_ownership emp_length   issue_d  \\\n",
       "0   36 months     C  debt_consolidation       MORTGAGE  10+ years  Dec-2015   \n",
       "1   36 months     C      small_business       MORTGAGE  10+ years  Dec-2015   \n",
       "2   60 months     B    home_improvement       MORTGAGE  10+ years  Dec-2015   \n",
       "4   60 months     F      major_purchase       MORTGAGE    3 years  Dec-2015   \n",
       "5   36 months     C  debt_consolidation           RENT    4 years  Dec-2015   \n",
       "\n",
       "  earliest_cr_line verification_status application_type addr_state  \n",
       "0         Aug-2003        Not Verified       Individual         PA  \n",
       "1         Dec-1999        Not Verified       Individual         SD  \n",
       "2         Aug-2000        Not Verified        Joint App         IL  \n",
       "4         Jun-1998     Source Verified       Individual         PA  \n",
       "5         Oct-1987     Source Verified       Individual         GA  "
      ]
     },
     "execution_count": 10,
     "metadata": {},
     "output_type": "execute_result"
    }
   ],
   "source": [
    "df.select_dtypes(include=[\"object\"]).head()"
   ]
  },
  {
   "cell_type": "markdown",
   "metadata": {
    "id": "rqdXL9Js3Uz_"
   },
   "source": [
    "**Convert dates to date-time type**"
   ]
  },
  {
   "cell_type": "code",
   "execution_count": 11,
   "metadata": {
    "colab": {
     "base_uri": "https://localhost:8080/",
     "height": 347
    },
    "id": "IP-tF4USTAHB",
    "outputId": "a651f999-4c6e-4454-a5f6-7df8461184e0"
   },
   "outputs": [
    {
     "name": "stdout",
     "output_type": "stream",
     "text": [
      "Engineering 'credit_history_length'...\n"
     ]
    },
    {
     "name": "stderr",
     "output_type": "stream",
     "text": [
      "C:\\Users\\Lenovo\\AppData\\Local\\Temp\\ipykernel_26280\\4159934486.py:6: UserWarning: Could not infer format, so each element will be parsed individually, falling back to `dateutil`. To ensure parsing is consistent and as-expected, please specify a format.\n",
      "  df[\"issue_d\"] = pd.to_datetime(df[\"issue_d\"])\n",
      "C:\\Users\\Lenovo\\AppData\\Local\\Temp\\ipykernel_26280\\4159934486.py:7: UserWarning: Could not infer format, so each element will be parsed individually, falling back to `dateutil`. To ensure parsing is consistent and as-expected, please specify a format.\n",
      "  df[\"earliest_cr_line\"] = pd.to_datetime(df[\"earliest_cr_line\"])\n"
     ]
    },
    {
     "data": {
      "application/vnd.microsoft.datawrangler.viewer.v0+json": {
       "columns": [
        {
         "name": "index",
         "rawType": "int64",
         "type": "integer"
        },
        {
         "name": "credit_history_length",
         "rawType": "float64",
         "type": "float"
        }
       ],
       "ref": "42c1d8f1-1c7a-45d0-8f11-35159f3d62b8",
       "rows": [
        [
         "0",
         "150.0"
        ],
        [
         "1",
         "195.0"
        ],
        [
         "2",
         "187.0"
        ],
        [
         "4",
         "213.0"
        ],
        [
         "5",
         "343.0"
        ]
       ],
       "shape": {
        "columns": 1,
        "rows": 5
       }
      },
      "text/plain": [
       "0    150.0\n",
       "1    195.0\n",
       "2    187.0\n",
       "4    213.0\n",
       "5    343.0\n",
       "Name: credit_history_length, dtype: float64"
      ]
     },
     "execution_count": 11,
     "metadata": {},
     "output_type": "execute_result"
    }
   ],
   "source": [
    "# Engineer credit history length\n",
    "# Check if the original date columns exist\n",
    "if \"issue_d\" in df.columns and \"earliest_cr_line\" in df.columns:\n",
    "    print(\"Engineering 'credit_history_length'...\")\n",
    "    # Ensure columns are datetime before performing operations\n",
    "    df[\"issue_d\"] = pd.to_datetime(df[\"issue_d\"])\n",
    "    df[\"earliest_cr_line\"] = pd.to_datetime(df[\"earliest_cr_line\"])\n",
    "    df[\"credit_history_length\"] = (\n",
    "        (df[\"issue_d\"] - df[\"earliest_cr_line\"]).dt.days / 30\n",
    "    ).round(0)\n",
    "    # Drop original date columns now that we're done with them\n",
    "    df = df.drop(columns=[\"issue_d\", \"earliest_cr_line\"], errors=\"ignore\")\n",
    "\n",
    "df[\"credit_history_length\"].head()"
   ]
  },
  {
   "cell_type": "markdown",
   "metadata": {
    "id": "7WjA7N2B3hTV"
   },
   "source": [
    "**Strip leading/tailing white spaces**"
   ]
  },
  {
   "cell_type": "code",
   "execution_count": 12,
   "metadata": {
    "id": "dMNYfPHu1lvS"
   },
   "outputs": [],
   "source": [
    "df = df.apply(lambda col: col.str.strip() if col.dtypes == \"object\" else col)"
   ]
  },
  {
   "cell_type": "code",
   "execution_count": 13,
   "metadata": {
    "id": "5JYdaVFtHAFm"
   },
   "outputs": [
    {
     "name": "stderr",
     "output_type": "stream",
     "text": [
      "<>:2: SyntaxWarning: invalid escape sequence '\\d'\n",
      "<>:2: SyntaxWarning: invalid escape sequence '\\d'\n",
      "C:\\Users\\Lenovo\\AppData\\Local\\Temp\\ipykernel_26280\\3708040124.py:2: SyntaxWarning: invalid escape sequence '\\d'\n",
      "  df[\"term\"] = df[\"term\"].str.extract(\"(\\d+)\").astype(int)\n"
     ]
    }
   ],
   "source": [
    "# Clean 'term' column (e.g., ' 36 months' -> 36)\n",
    "df[\"term\"] = df[\"term\"].str.extract(\"(\\d+)\").astype(int)\n",
    "# Clean and map 'emp_length' to numerical values\n",
    "emp_length_map = {\n",
    "    \"< 1 year\": 0.5,\n",
    "    \"1 year\": 1,\n",
    "    \"2 years\": 2,\n",
    "    \"3 years\": 3,\n",
    "    \"4 years\": 4,\n",
    "    \"5 years\": 5,\n",
    "    \"6 years\": 6,\n",
    "    \"7 years\": 7,\n",
    "    \"8 years\": 8,\n",
    "    \"9 years\": 9,\n",
    "    \"10+ years\": 10,\n",
    "}\n",
    "df[\"emp_length\"] = df[\"emp_length\"].map(emp_length_map)"
   ]
  },
  {
   "cell_type": "code",
   "execution_count": 14,
   "metadata": {
    "colab": {
     "base_uri": "https://localhost:8080/"
    },
    "id": "MXjSjwQNHhFO",
    "outputId": "e7066197-8831-4f8e-c2d9-90e8ab12ecb4"
   },
   "outputs": [
    {
     "name": "stdout",
     "output_type": "stream",
     "text": [
      "grade\n",
      "B    392748\n",
      "C    381694\n",
      "A    235095\n",
      "D    200966\n",
      "E     93656\n",
      "F     32059\n",
      "G      9132\n",
      "Name: count, dtype: int64\n",
      "purpose\n",
      "debt_consolidation    780342\n",
      "credit_card           295285\n",
      "home_improvement       87507\n",
      "other                  77877\n",
      "major_purchase         29427\n",
      "medical                15556\n",
      "small_business         15416\n",
      "car                    14588\n",
      "moving                  9480\n",
      "vacation                9065\n",
      "house                   7254\n",
      "wedding                 2294\n",
      "renewable_energy         933\n",
      "educational              326\n",
      "Name: count, dtype: int64\n",
      "home_ownership\n",
      "MORTGAGE    665596\n",
      "RENT        534436\n",
      "OWN         144840\n",
      "ANY            286\n",
      "OTHER          144\n",
      "NONE            48\n",
      "Name: count, dtype: int64\n",
      "verification_status\n",
      "Source Verified    521289\n",
      "Verified           418352\n",
      "Not Verified       405709\n",
      "Name: count, dtype: int64\n",
      "application_type\n",
      "Individual    1319544\n",
      "Joint App       25806\n",
      "Name: count, dtype: int64\n",
      "addr_state\n",
      "CA    196529\n",
      "TX    110173\n",
      "NY    109849\n",
      "FL     95611\n",
      "IL     51723\n",
      "NJ     48450\n",
      "PA     45524\n",
      "OH     43844\n",
      "GA     43376\n",
      "VA     38040\n",
      "NC     37785\n",
      "MI     35234\n",
      "AZ     32697\n",
      "MD     31228\n",
      "MA     30977\n",
      "CO     29671\n",
      "WA     29189\n",
      "MN     23968\n",
      "IN     21716\n",
      "MO     21261\n",
      "TN     20385\n",
      "NV     20267\n",
      "CT     19729\n",
      "WI     17732\n",
      "AL     16613\n",
      "OR     16410\n",
      "SC     15993\n",
      "LA     15499\n",
      "KY     12839\n",
      "OK     12281\n",
      "KS     11241\n",
      "AR     10047\n",
      "UT     10036\n",
      "NM      7362\n",
      "HI      6758\n",
      "MS      6588\n",
      "NH      6449\n",
      "RI      5872\n",
      "WV      4878\n",
      "MT      3823\n",
      "DE      3783\n",
      "NE      3586\n",
      "DC      3475\n",
      "AK      3190\n",
      "WY      2922\n",
      "SD      2767\n",
      "VT      2652\n",
      "ME      2030\n",
      "ID      1689\n",
      "ND      1602\n",
      "IA         7\n",
      "Name: count, dtype: int64\n"
     ]
    }
   ],
   "source": [
    "def value_counter(df):\n",
    "    for col in df.select_dtypes([\"object\"]).columns:\n",
    "        print(df[col].value_counts(dropna=False))\n",
    "\n",
    "\n",
    "value_counter(df)"
   ]
  },
  {
   "cell_type": "code",
   "execution_count": 15,
   "metadata": {
    "id": "NcaqsfyJOX6Z"
   },
   "outputs": [],
   "source": [
    "# In home_ownership column, 'ANY,OTHER and NONE' do not make sense to be alone\n",
    "# themselves so that will group into 'OTHER'\n",
    "home_ownership_mapping = {\n",
    "    \"ANY\": \"other\",\n",
    "    \"MORTGAGE\": \"mortgage\",\n",
    "    \"RENT\": \"rent\",\n",
    "    \"OWN\": \"own\",\n",
    "    \"NONE\": \"other\",\n",
    "}\n",
    "df.home_ownership = df.home_ownership.map(home_ownership_mapping)"
   ]
  },
  {
   "cell_type": "code",
   "execution_count": 16,
   "metadata": {
    "colab": {
     "base_uri": "https://localhost:8080/"
    },
    "id": "w_0qaisS1fjY",
    "outputId": "4e43f55d-96a4-4cc8-ac0a-f29dd7042426"
   },
   "outputs": [
    {
     "name": "stdout",
     "output_type": "stream",
     "text": [
      "Engineering 'fico_score'...\n",
      "float64\n"
     ]
    },
    {
     "data": {
      "application/vnd.microsoft.datawrangler.viewer.v0+json": {
       "columns": [
        {
         "name": "index",
         "rawType": "int64",
         "type": "integer"
        },
        {
         "name": "fico_score",
         "rawType": "float64",
         "type": "float"
        }
       ],
       "ref": "c6363747-aca3-4edf-8e53-fcb337bb907b",
       "rows": [
        [
         "0",
         "677.0"
        ],
        [
         "1",
         "717.0"
        ],
        [
         "2",
         "697.0"
        ],
        [
         "4",
         "697.0"
        ],
        [
         "5",
         "692.0"
        ]
       ],
       "shape": {
        "columns": 1,
        "rows": 5
       }
      },
      "text/plain": [
       "0    677.0\n",
       "1    717.0\n",
       "2    697.0\n",
       "4    697.0\n",
       "5    692.0\n",
       "Name: fico_score, dtype: float64"
      ]
     },
     "execution_count": 16,
     "metadata": {},
     "output_type": "execute_result"
    }
   ],
   "source": [
    "# Engineer a single FICO score\n",
    "# Check if the original FICO columns still exist before trying to create the new one\n",
    "if \"fico_range_low\" in df.columns and \"fico_range_high\" in df.columns:\n",
    "    print(\"Engineering 'fico_score'...\")\n",
    "    df[\"fico_score\"] = (df[\"fico_range_low\"] + df[\"fico_range_high\"]) / 2\n",
    "    df = df.drop(columns=[\"fico_range_low\", \"fico_range_high\"])\n",
    "\n",
    "print(df[\"fico_score\"].dtypes)\n",
    "df[\"fico_score\"].head()"
   ]
  },
  {
   "cell_type": "markdown",
   "metadata": {
    "id": "ajKGfI6lXi0I"
   },
   "source": [
    "## All to Numeric Features"
   ]
  },
  {
   "cell_type": "code",
   "execution_count": 17,
   "metadata": {
    "colab": {
     "base_uri": "https://localhost:8080/",
     "height": 255
    },
    "id": "qcaPil_0Sark",
    "outputId": "745af557-8165-4001-981c-f1708295d489"
   },
   "outputs": [
    {
     "data": {
      "application/vnd.microsoft.datawrangler.viewer.v0+json": {
       "columns": [
        {
         "name": "index",
         "rawType": "int64",
         "type": "integer"
        },
        {
         "name": "loan_amnt",
         "rawType": "float64",
         "type": "float"
        },
        {
         "name": "term",
         "rawType": "int64",
         "type": "integer"
        },
        {
         "name": "int_rate",
         "rawType": "float64",
         "type": "float"
        },
        {
         "name": "annual_inc",
         "rawType": "float64",
         "type": "float"
        },
        {
         "name": "dti",
         "rawType": "float64",
         "type": "float"
        },
        {
         "name": "delinq_2yrs",
         "rawType": "float64",
         "type": "float"
        },
        {
         "name": "inq_last_6mths",
         "rawType": "float64",
         "type": "float"
        },
        {
         "name": "emp_length",
         "rawType": "float64",
         "type": "float"
        },
        {
         "name": "open_acc",
         "rawType": "float64",
         "type": "float"
        },
        {
         "name": "pub_rec",
         "rawType": "float64",
         "type": "float"
        },
        {
         "name": "revol_bal",
         "rawType": "float64",
         "type": "float"
        },
        {
         "name": "revol_util",
         "rawType": "float64",
         "type": "float"
        },
        {
         "name": "total_acc",
         "rawType": "float64",
         "type": "float"
        },
        {
         "name": "credit_history_length",
         "rawType": "float64",
         "type": "float"
        },
        {
         "name": "fico_score",
         "rawType": "float64",
         "type": "float"
        },
        {
         "name": "grade_B",
         "rawType": "bool",
         "type": "boolean"
        },
        {
         "name": "grade_C",
         "rawType": "bool",
         "type": "boolean"
        },
        {
         "name": "grade_D",
         "rawType": "bool",
         "type": "boolean"
        },
        {
         "name": "grade_E",
         "rawType": "bool",
         "type": "boolean"
        },
        {
         "name": "grade_F",
         "rawType": "bool",
         "type": "boolean"
        },
        {
         "name": "grade_G",
         "rawType": "bool",
         "type": "boolean"
        },
        {
         "name": "purpose_credit_card",
         "rawType": "bool",
         "type": "boolean"
        },
        {
         "name": "purpose_debt_consolidation",
         "rawType": "bool",
         "type": "boolean"
        },
        {
         "name": "purpose_educational",
         "rawType": "bool",
         "type": "boolean"
        },
        {
         "name": "purpose_home_improvement",
         "rawType": "bool",
         "type": "boolean"
        },
        {
         "name": "purpose_house",
         "rawType": "bool",
         "type": "boolean"
        },
        {
         "name": "purpose_major_purchase",
         "rawType": "bool",
         "type": "boolean"
        },
        {
         "name": "purpose_medical",
         "rawType": "bool",
         "type": "boolean"
        },
        {
         "name": "purpose_moving",
         "rawType": "bool",
         "type": "boolean"
        },
        {
         "name": "purpose_other",
         "rawType": "bool",
         "type": "boolean"
        },
        {
         "name": "purpose_renewable_energy",
         "rawType": "bool",
         "type": "boolean"
        },
        {
         "name": "purpose_small_business",
         "rawType": "bool",
         "type": "boolean"
        },
        {
         "name": "purpose_vacation",
         "rawType": "bool",
         "type": "boolean"
        },
        {
         "name": "purpose_wedding",
         "rawType": "bool",
         "type": "boolean"
        },
        {
         "name": "home_ownership_other",
         "rawType": "bool",
         "type": "boolean"
        },
        {
         "name": "home_ownership_own",
         "rawType": "bool",
         "type": "boolean"
        },
        {
         "name": "home_ownership_rent",
         "rawType": "bool",
         "type": "boolean"
        },
        {
         "name": "verification_status_Source Verified",
         "rawType": "bool",
         "type": "boolean"
        },
        {
         "name": "verification_status_Verified",
         "rawType": "bool",
         "type": "boolean"
        },
        {
         "name": "application_type_Joint App",
         "rawType": "bool",
         "type": "boolean"
        },
        {
         "name": "addr_state_AL",
         "rawType": "bool",
         "type": "boolean"
        },
        {
         "name": "addr_state_AR",
         "rawType": "bool",
         "type": "boolean"
        },
        {
         "name": "addr_state_AZ",
         "rawType": "bool",
         "type": "boolean"
        },
        {
         "name": "addr_state_CA",
         "rawType": "bool",
         "type": "boolean"
        },
        {
         "name": "addr_state_CO",
         "rawType": "bool",
         "type": "boolean"
        },
        {
         "name": "addr_state_CT",
         "rawType": "bool",
         "type": "boolean"
        },
        {
         "name": "addr_state_DC",
         "rawType": "bool",
         "type": "boolean"
        },
        {
         "name": "addr_state_DE",
         "rawType": "bool",
         "type": "boolean"
        },
        {
         "name": "addr_state_FL",
         "rawType": "bool",
         "type": "boolean"
        },
        {
         "name": "addr_state_GA",
         "rawType": "bool",
         "type": "boolean"
        },
        {
         "name": "addr_state_HI",
         "rawType": "bool",
         "type": "boolean"
        },
        {
         "name": "addr_state_IA",
         "rawType": "bool",
         "type": "boolean"
        },
        {
         "name": "addr_state_ID",
         "rawType": "bool",
         "type": "boolean"
        },
        {
         "name": "addr_state_IL",
         "rawType": "bool",
         "type": "boolean"
        },
        {
         "name": "addr_state_IN",
         "rawType": "bool",
         "type": "boolean"
        },
        {
         "name": "addr_state_KS",
         "rawType": "bool",
         "type": "boolean"
        },
        {
         "name": "addr_state_KY",
         "rawType": "bool",
         "type": "boolean"
        },
        {
         "name": "addr_state_LA",
         "rawType": "bool",
         "type": "boolean"
        },
        {
         "name": "addr_state_MA",
         "rawType": "bool",
         "type": "boolean"
        },
        {
         "name": "addr_state_MD",
         "rawType": "bool",
         "type": "boolean"
        },
        {
         "name": "addr_state_ME",
         "rawType": "bool",
         "type": "boolean"
        },
        {
         "name": "addr_state_MI",
         "rawType": "bool",
         "type": "boolean"
        },
        {
         "name": "addr_state_MN",
         "rawType": "bool",
         "type": "boolean"
        },
        {
         "name": "addr_state_MO",
         "rawType": "bool",
         "type": "boolean"
        },
        {
         "name": "addr_state_MS",
         "rawType": "bool",
         "type": "boolean"
        },
        {
         "name": "addr_state_MT",
         "rawType": "bool",
         "type": "boolean"
        },
        {
         "name": "addr_state_NC",
         "rawType": "bool",
         "type": "boolean"
        },
        {
         "name": "addr_state_ND",
         "rawType": "bool",
         "type": "boolean"
        },
        {
         "name": "addr_state_NE",
         "rawType": "bool",
         "type": "boolean"
        },
        {
         "name": "addr_state_NH",
         "rawType": "bool",
         "type": "boolean"
        },
        {
         "name": "addr_state_NJ",
         "rawType": "bool",
         "type": "boolean"
        },
        {
         "name": "addr_state_NM",
         "rawType": "bool",
         "type": "boolean"
        },
        {
         "name": "addr_state_NV",
         "rawType": "bool",
         "type": "boolean"
        },
        {
         "name": "addr_state_NY",
         "rawType": "bool",
         "type": "boolean"
        },
        {
         "name": "addr_state_OH",
         "rawType": "bool",
         "type": "boolean"
        },
        {
         "name": "addr_state_OK",
         "rawType": "bool",
         "type": "boolean"
        },
        {
         "name": "addr_state_OR",
         "rawType": "bool",
         "type": "boolean"
        },
        {
         "name": "addr_state_PA",
         "rawType": "bool",
         "type": "boolean"
        },
        {
         "name": "addr_state_RI",
         "rawType": "bool",
         "type": "boolean"
        },
        {
         "name": "addr_state_SC",
         "rawType": "bool",
         "type": "boolean"
        },
        {
         "name": "addr_state_SD",
         "rawType": "bool",
         "type": "boolean"
        },
        {
         "name": "addr_state_TN",
         "rawType": "bool",
         "type": "boolean"
        },
        {
         "name": "addr_state_TX",
         "rawType": "bool",
         "type": "boolean"
        },
        {
         "name": "addr_state_UT",
         "rawType": "bool",
         "type": "boolean"
        },
        {
         "name": "addr_state_VA",
         "rawType": "bool",
         "type": "boolean"
        },
        {
         "name": "addr_state_VT",
         "rawType": "bool",
         "type": "boolean"
        },
        {
         "name": "addr_state_WA",
         "rawType": "bool",
         "type": "boolean"
        },
        {
         "name": "addr_state_WI",
         "rawType": "bool",
         "type": "boolean"
        },
        {
         "name": "addr_state_WV",
         "rawType": "bool",
         "type": "boolean"
        },
        {
         "name": "addr_state_WY",
         "rawType": "bool",
         "type": "boolean"
        },
        {
         "name": "is_default",
         "rawType": "int64",
         "type": "integer"
        }
       ],
       "ref": "017e60b9-3b9c-4898-89c1-66df3b0ef57e",
       "rows": [
        [
         "0",
         "3600.0",
         "36",
         "13.99",
         "55000.0",
         "5.91",
         "0.0",
         "1.0",
         "10.0",
         "7.0",
         "0.0",
         "2765.0",
         "29.7",
         "13.0",
         "150.0",
         "677.0",
         "False",
         "True",
         "False",
         "False",
         "False",
         "False",
         "False",
         "True",
         "False",
         "False",
         "False",
         "False",
         "False",
         "False",
         "False",
         "False",
         "False",
         "False",
         "False",
         "False",
         "False",
         "False",
         "False",
         "False",
         "False",
         "False",
         "False",
         "False",
         "False",
         "False",
         "False",
         "False",
         "False",
         "False",
         "False",
         "False",
         "False",
         "False",
         "False",
         "False",
         "False",
         "False",
         "False",
         "False",
         "False",
         "False",
         "False",
         "False",
         "False",
         "False",
         "False",
         "False",
         "False",
         "False",
         "False",
         "False",
         "False",
         "False",
         "False",
         "False",
         "False",
         "False",
         "True",
         "False",
         "False",
         "False",
         "False",
         "False",
         "False",
         "False",
         "False",
         "False",
         "False",
         "False",
         "False",
         "0"
        ],
        [
         "1",
         "24700.0",
         "36",
         "11.99",
         "65000.0",
         "16.06",
         "1.0",
         "4.0",
         "10.0",
         "22.0",
         "0.0",
         "21470.0",
         "19.2",
         "38.0",
         "195.0",
         "717.0",
         "False",
         "True",
         "False",
         "False",
         "False",
         "False",
         "False",
         "False",
         "False",
         "False",
         "False",
         "False",
         "False",
         "False",
         "False",
         "False",
         "True",
         "False",
         "False",
         "False",
         "False",
         "False",
         "False",
         "False",
         "False",
         "False",
         "False",
         "False",
         "False",
         "False",
         "False",
         "False",
         "False",
         "False",
         "False",
         "False",
         "False",
         "False",
         "False",
         "False",
         "False",
         "False",
         "False",
         "False",
         "False",
         "False",
         "False",
         "False",
         "False",
         "False",
         "False",
         "False",
         "False",
         "False",
         "False",
         "False",
         "False",
         "False",
         "False",
         "False",
         "False",
         "False",
         "False",
         "False",
         "False",
         "True",
         "False",
         "False",
         "False",
         "False",
         "False",
         "False",
         "False",
         "False",
         "False",
         "0"
        ],
        [
         "2",
         "20000.0",
         "60",
         "10.78",
         "63000.0",
         "10.78",
         "0.0",
         "0.0",
         "10.0",
         "6.0",
         "0.0",
         "7869.0",
         "56.2",
         "18.0",
         "187.0",
         "697.0",
         "True",
         "False",
         "False",
         "False",
         "False",
         "False",
         "False",
         "False",
         "False",
         "True",
         "False",
         "False",
         "False",
         "False",
         "False",
         "False",
         "False",
         "False",
         "False",
         "False",
         "False",
         "False",
         "False",
         "False",
         "True",
         "False",
         "False",
         "False",
         "False",
         "False",
         "False",
         "False",
         "False",
         "False",
         "False",
         "False",
         "False",
         "False",
         "True",
         "False",
         "False",
         "False",
         "False",
         "False",
         "False",
         "False",
         "False",
         "False",
         "False",
         "False",
         "False",
         "False",
         "False",
         "False",
         "False",
         "False",
         "False",
         "False",
         "False",
         "False",
         "False",
         "False",
         "False",
         "False",
         "False",
         "False",
         "False",
         "False",
         "False",
         "False",
         "False",
         "False",
         "False",
         "False",
         "False",
         "0"
        ],
        [
         "4",
         "10400.0",
         "60",
         "22.45",
         "104433.0",
         "25.37",
         "1.0",
         "3.0",
         "3.0",
         "12.0",
         "0.0",
         "21929.0",
         "64.5",
         "35.0",
         "213.0",
         "697.0",
         "False",
         "False",
         "False",
         "False",
         "True",
         "False",
         "False",
         "False",
         "False",
         "False",
         "False",
         "True",
         "False",
         "False",
         "False",
         "False",
         "False",
         "False",
         "False",
         "False",
         "False",
         "False",
         "True",
         "False",
         "False",
         "False",
         "False",
         "False",
         "False",
         "False",
         "False",
         "False",
         "False",
         "False",
         "False",
         "False",
         "False",
         "False",
         "False",
         "False",
         "False",
         "False",
         "False",
         "False",
         "False",
         "False",
         "False",
         "False",
         "False",
         "False",
         "False",
         "False",
         "False",
         "False",
         "False",
         "False",
         "False",
         "False",
         "False",
         "False",
         "False",
         "False",
         "True",
         "False",
         "False",
         "False",
         "False",
         "False",
         "False",
         "False",
         "False",
         "False",
         "False",
         "False",
         "False",
         "0"
        ],
        [
         "5",
         "11950.0",
         "36",
         "13.44",
         "34000.0",
         "10.2",
         "0.0",
         "0.0",
         "4.0",
         "5.0",
         "0.0",
         "8822.0",
         "68.4",
         "6.0",
         "343.0",
         "692.0",
         "False",
         "True",
         "False",
         "False",
         "False",
         "False",
         "False",
         "True",
         "False",
         "False",
         "False",
         "False",
         "False",
         "False",
         "False",
         "False",
         "False",
         "False",
         "False",
         "False",
         "False",
         "True",
         "True",
         "False",
         "False",
         "False",
         "False",
         "False",
         "False",
         "False",
         "False",
         "False",
         "False",
         "False",
         "True",
         "False",
         "False",
         "False",
         "False",
         "False",
         "False",
         "False",
         "False",
         "False",
         "False",
         "False",
         "False",
         "False",
         "False",
         "False",
         "False",
         "False",
         "False",
         "False",
         "False",
         "False",
         "False",
         "False",
         "False",
         "False",
         "False",
         "False",
         "False",
         "False",
         "False",
         "False",
         "False",
         "False",
         "False",
         "False",
         "False",
         "False",
         "False",
         "False",
         "False",
         "0"
        ]
       ],
       "shape": {
        "columns": 91,
        "rows": 5
       }
      },
      "text/html": [
       "<div>\n",
       "<style scoped>\n",
       "    .dataframe tbody tr th:only-of-type {\n",
       "        vertical-align: middle;\n",
       "    }\n",
       "\n",
       "    .dataframe tbody tr th {\n",
       "        vertical-align: top;\n",
       "    }\n",
       "\n",
       "    .dataframe thead th {\n",
       "        text-align: right;\n",
       "    }\n",
       "</style>\n",
       "<table border=\"1\" class=\"dataframe\">\n",
       "  <thead>\n",
       "    <tr style=\"text-align: right;\">\n",
       "      <th></th>\n",
       "      <th>loan_amnt</th>\n",
       "      <th>term</th>\n",
       "      <th>int_rate</th>\n",
       "      <th>annual_inc</th>\n",
       "      <th>dti</th>\n",
       "      <th>delinq_2yrs</th>\n",
       "      <th>inq_last_6mths</th>\n",
       "      <th>emp_length</th>\n",
       "      <th>open_acc</th>\n",
       "      <th>pub_rec</th>\n",
       "      <th>...</th>\n",
       "      <th>addr_state_TN</th>\n",
       "      <th>addr_state_TX</th>\n",
       "      <th>addr_state_UT</th>\n",
       "      <th>addr_state_VA</th>\n",
       "      <th>addr_state_VT</th>\n",
       "      <th>addr_state_WA</th>\n",
       "      <th>addr_state_WI</th>\n",
       "      <th>addr_state_WV</th>\n",
       "      <th>addr_state_WY</th>\n",
       "      <th>is_default</th>\n",
       "    </tr>\n",
       "  </thead>\n",
       "  <tbody>\n",
       "    <tr>\n",
       "      <th>0</th>\n",
       "      <td>3600.0</td>\n",
       "      <td>36</td>\n",
       "      <td>13.99</td>\n",
       "      <td>55000.0</td>\n",
       "      <td>5.91</td>\n",
       "      <td>0.0</td>\n",
       "      <td>1.0</td>\n",
       "      <td>10.0</td>\n",
       "      <td>7.0</td>\n",
       "      <td>0.0</td>\n",
       "      <td>...</td>\n",
       "      <td>False</td>\n",
       "      <td>False</td>\n",
       "      <td>False</td>\n",
       "      <td>False</td>\n",
       "      <td>False</td>\n",
       "      <td>False</td>\n",
       "      <td>False</td>\n",
       "      <td>False</td>\n",
       "      <td>False</td>\n",
       "      <td>0</td>\n",
       "    </tr>\n",
       "    <tr>\n",
       "      <th>1</th>\n",
       "      <td>24700.0</td>\n",
       "      <td>36</td>\n",
       "      <td>11.99</td>\n",
       "      <td>65000.0</td>\n",
       "      <td>16.06</td>\n",
       "      <td>1.0</td>\n",
       "      <td>4.0</td>\n",
       "      <td>10.0</td>\n",
       "      <td>22.0</td>\n",
       "      <td>0.0</td>\n",
       "      <td>...</td>\n",
       "      <td>False</td>\n",
       "      <td>False</td>\n",
       "      <td>False</td>\n",
       "      <td>False</td>\n",
       "      <td>False</td>\n",
       "      <td>False</td>\n",
       "      <td>False</td>\n",
       "      <td>False</td>\n",
       "      <td>False</td>\n",
       "      <td>0</td>\n",
       "    </tr>\n",
       "    <tr>\n",
       "      <th>2</th>\n",
       "      <td>20000.0</td>\n",
       "      <td>60</td>\n",
       "      <td>10.78</td>\n",
       "      <td>63000.0</td>\n",
       "      <td>10.78</td>\n",
       "      <td>0.0</td>\n",
       "      <td>0.0</td>\n",
       "      <td>10.0</td>\n",
       "      <td>6.0</td>\n",
       "      <td>0.0</td>\n",
       "      <td>...</td>\n",
       "      <td>False</td>\n",
       "      <td>False</td>\n",
       "      <td>False</td>\n",
       "      <td>False</td>\n",
       "      <td>False</td>\n",
       "      <td>False</td>\n",
       "      <td>False</td>\n",
       "      <td>False</td>\n",
       "      <td>False</td>\n",
       "      <td>0</td>\n",
       "    </tr>\n",
       "    <tr>\n",
       "      <th>4</th>\n",
       "      <td>10400.0</td>\n",
       "      <td>60</td>\n",
       "      <td>22.45</td>\n",
       "      <td>104433.0</td>\n",
       "      <td>25.37</td>\n",
       "      <td>1.0</td>\n",
       "      <td>3.0</td>\n",
       "      <td>3.0</td>\n",
       "      <td>12.0</td>\n",
       "      <td>0.0</td>\n",
       "      <td>...</td>\n",
       "      <td>False</td>\n",
       "      <td>False</td>\n",
       "      <td>False</td>\n",
       "      <td>False</td>\n",
       "      <td>False</td>\n",
       "      <td>False</td>\n",
       "      <td>False</td>\n",
       "      <td>False</td>\n",
       "      <td>False</td>\n",
       "      <td>0</td>\n",
       "    </tr>\n",
       "    <tr>\n",
       "      <th>5</th>\n",
       "      <td>11950.0</td>\n",
       "      <td>36</td>\n",
       "      <td>13.44</td>\n",
       "      <td>34000.0</td>\n",
       "      <td>10.20</td>\n",
       "      <td>0.0</td>\n",
       "      <td>0.0</td>\n",
       "      <td>4.0</td>\n",
       "      <td>5.0</td>\n",
       "      <td>0.0</td>\n",
       "      <td>...</td>\n",
       "      <td>False</td>\n",
       "      <td>False</td>\n",
       "      <td>False</td>\n",
       "      <td>False</td>\n",
       "      <td>False</td>\n",
       "      <td>False</td>\n",
       "      <td>False</td>\n",
       "      <td>False</td>\n",
       "      <td>False</td>\n",
       "      <td>0</td>\n",
       "    </tr>\n",
       "  </tbody>\n",
       "</table>\n",
       "<p>5 rows × 91 columns</p>\n",
       "</div>"
      ],
      "text/plain": [
       "   loan_amnt  term  int_rate  annual_inc    dti  delinq_2yrs  inq_last_6mths  \\\n",
       "0     3600.0    36     13.99     55000.0   5.91          0.0             1.0   \n",
       "1    24700.0    36     11.99     65000.0  16.06          1.0             4.0   \n",
       "2    20000.0    60     10.78     63000.0  10.78          0.0             0.0   \n",
       "4    10400.0    60     22.45    104433.0  25.37          1.0             3.0   \n",
       "5    11950.0    36     13.44     34000.0  10.20          0.0             0.0   \n",
       "\n",
       "   emp_length  open_acc  pub_rec  ...  addr_state_TN  addr_state_TX  \\\n",
       "0        10.0       7.0      0.0  ...          False          False   \n",
       "1        10.0      22.0      0.0  ...          False          False   \n",
       "2        10.0       6.0      0.0  ...          False          False   \n",
       "4         3.0      12.0      0.0  ...          False          False   \n",
       "5         4.0       5.0      0.0  ...          False          False   \n",
       "\n",
       "   addr_state_UT  addr_state_VA  addr_state_VT  addr_state_WA  addr_state_WI  \\\n",
       "0          False          False          False          False          False   \n",
       "1          False          False          False          False          False   \n",
       "2          False          False          False          False          False   \n",
       "4          False          False          False          False          False   \n",
       "5          False          False          False          False          False   \n",
       "\n",
       "   addr_state_WV  addr_state_WY  is_default  \n",
       "0          False          False           0  \n",
       "1          False          False           0  \n",
       "2          False          False           0  \n",
       "4          False          False           0  \n",
       "5          False          False           0  \n",
       "\n",
       "[5 rows x 91 columns]"
      ]
     },
     "execution_count": 17,
     "metadata": {},
     "output_type": "execute_result"
    }
   ],
   "source": [
    "cat_cols = df.select_dtypes(include=[\"object\"]).columns\n",
    "num_cols = df.select_dtypes(exclude=[\"object\"]).drop(\"is_default\", axis=1).columns\n",
    "\n",
    "# Concatenate numeric columns explicitly\n",
    "df_final = pd.concat(\n",
    "    [df[num_cols], pd.get_dummies(df[cat_cols], drop_first=True), df[\"is_default\"]],\n",
    "    axis=1,\n",
    ")\n",
    "df_final.head()"
   ]
  },
  {
   "cell_type": "code",
   "execution_count": 18,
   "metadata": {},
   "outputs": [
    {
     "name": "stdout",
     "output_type": "stream",
     "text": [
      "Processed data saved to processed_lending_club_data.csv\n"
     ]
    }
   ],
   "source": [
    "# Save the final processed DataFrame to a CSV file\n",
    "output_csv = \"processed_lending_club_data.csv\"\n",
    "df_final.to_csv(output_csv, index=False)\n",
    "print(f\"Processed data saved to {output_csv}\")"
   ]
  },
  {
   "cell_type": "markdown",
   "metadata": {
    "id": "_1NnRLe57aTd"
   },
   "source": [
    "## Preporcessing"
   ]
  },
  {
   "cell_type": "code",
   "execution_count": 17,
   "metadata": {
    "id": "q73-k_lO7OjX"
   },
   "outputs": [],
   "source": [
    "# Preprocess Data\n",
    "X = df_final.drop(\"is_default\", axis=1)\n",
    "y = df_final[\"is_default\"]\n",
    "\n",
    "# Scale numeric features\n",
    "X_scaled = X.copy()\n",
    "num_cols = X.select_dtypes(include=[\"float64\", \"int64\"]).columns\n",
    "scaler = StandardScaler()\n",
    "X_scaled[num_cols] = scaler.fit_transform(X[num_cols])\n",
    "\n",
    "# Train/Test Split\n",
    "X_train, X_test, y_train, y_test = train_test_split(\n",
    "    X_scaled, y, test_size=0.2, random_state=42\n",
    ")"
   ]
  },
  {
   "cell_type": "markdown",
   "metadata": {
    "id": "_ElRKIai7mMJ"
   },
   "source": [
    "## Training"
   ]
  },
  {
   "cell_type": "code",
   "execution_count": 18,
   "metadata": {
    "id": "Xx8zUbNanuNt"
   },
   "outputs": [],
   "source": [
    "# Initialize models\n",
    "logreg = LogisticRegression(max_iter=1000, class_weight=\"balanced\", random_state=42)\n",
    "\n",
    "rf = RandomForestClassifier(n_estimators=100, class_weight=\"balanced\", random_state=42)\n",
    "\n",
    "pos_weight = df[\"is_default\"].value_counts()[0] / df[\"is_default\"].value_counts()[1]\n",
    "xgb = XGBClassifier(\n",
    "    use_label_encoder=False,\n",
    "    eval_metric=\"logloss\",\n",
    "    scale_pos_weight=pos_weight,\n",
    "    random_state=42,\n",
    ")"
   ]
  },
  {
   "cell_type": "code",
   "execution_count": 19,
   "metadata": {
    "colab": {
     "base_uri": "https://localhost:8080/"
    },
    "id": "dfdtcCRA7rTy",
    "outputId": "f113c09e-b51b-49d0-ea0c-4053d49cbb90"
   },
   "outputs": [
    {
     "name": "stderr",
     "output_type": "stream",
     "text": [
      "C:\\Users\\Lenovo\\AppData\\Local\\Packages\\PythonSoftwareFoundation.Python.3.12_qbz5n2kfra8p0\\LocalCache\\local-packages\\Python312\\site-packages\\xgboost\\training.py:183: UserWarning: [18:42:45] WARNING: C:\\actions-runner\\_work\\xgboost\\xgboost\\src\\learner.cc:738: \n",
      "Parameters: { \"use_label_encoder\" } are not used.\n",
      "\n",
      "  bst.update(dtrain, iteration=i, fobj=obj)\n"
     ]
    }
   ],
   "source": [
    "# Logistic Regression\n",
    "logreg.fit(X_train, y_train)\n",
    "y_pred_log = logreg.predict(X_test)\n",
    "y_proba_log = logreg.predict_proba(X_test)[:, 1]  # Probabilities\n",
    "\n",
    "# Random Forest\n",
    "rf.fit(X_train, y_train)\n",
    "y_pred_rf = rf.predict(X_test)\n",
    "y_proba_rf = rf.predict_proba(X_test)[:, 1]  # Probabilities\n",
    "\n",
    "# XGBoost\n",
    "xgb.fit(X_train, y_train)\n",
    "y_pred_xgb = xgb.predict(X_test)\n",
    "y_proba_xgb = xgb.predict_proba(X_test)[:, 1]  # Probabilities"
   ]
  },
  {
   "cell_type": "markdown",
   "metadata": {
    "id": "jGtlxUA872KT"
   },
   "source": [
    "## Evaluation"
   ]
  },
  {
   "cell_type": "code",
   "execution_count": 20,
   "metadata": {
    "colab": {
     "base_uri": "https://localhost:8080/"
    },
    "id": "tnwXHrzI3ksh",
    "outputId": "60ed0227-9952-4ae3-916b-3bd9df145426"
   },
   "outputs": [
    {
     "name": "stdout",
     "output_type": "stream",
     "text": [
      "\n",
      "=== Logistic Regression ===\n",
      "              precision    recall  f1-score   support\n",
      "\n",
      "           0       0.89      0.63      0.74    215385\n",
      "           1       0.31      0.67      0.43     53685\n",
      "\n",
      "    accuracy                           0.64    269070\n",
      "   macro avg       0.60      0.65      0.58    269070\n",
      "weighted avg       0.77      0.64      0.68    269070\n",
      "\n",
      "Confusion Matrix:\n",
      " [[136725  78660]\n",
      " [ 17629  36056]]\n",
      "ROC-AUC: 0.7111720249248207\n",
      "\n",
      "=== Random Forest ===\n",
      "              precision    recall  f1-score   support\n",
      "\n",
      "           0       0.81      0.99      0.89    215385\n",
      "           1       0.55      0.06      0.10     53685\n",
      "\n",
      "    accuracy                           0.80    269070\n",
      "   macro avg       0.68      0.52      0.50    269070\n",
      "weighted avg       0.76      0.80      0.73    269070\n",
      "\n",
      "Confusion Matrix:\n",
      " [[212906   2479]\n",
      " [ 50687   2998]]\n",
      "ROC-AUC: 0.706737194122252\n",
      "\n",
      "=== XGBoost ===\n",
      "              precision    recall  f1-score   support\n",
      "\n",
      "           0       0.89      0.65      0.75    215385\n",
      "           1       0.32      0.67      0.44     53685\n",
      "\n",
      "    accuracy                           0.66    269070\n",
      "   macro avg       0.61      0.66      0.59    269070\n",
      "weighted avg       0.78      0.66      0.69    269070\n",
      "\n",
      "Confusion Matrix:\n",
      " [[140260  75125]\n",
      " [ 17657  36028]]\n",
      "ROC-AUC: 0.723049133580385\n"
     ]
    }
   ],
   "source": [
    "# Evaluation function\n",
    "def evaluate_model(y_test, y_pred, y_proba, model_name):\n",
    "    print(f\"\\n=== {model_name} ===\")\n",
    "    print(classification_report(y_test, y_pred))\n",
    "    print(\"Confusion Matrix:\\n\", confusion_matrix(y_test, y_pred))\n",
    "    print(\"ROC-AUC:\", roc_auc_score(y_test, y_proba))\n",
    "\n",
    "\n",
    "# Evaluate all models\n",
    "evaluate_model(y_test, y_pred_log, y_proba_log, \"Logistic Regression\")\n",
    "evaluate_model(y_test, y_pred_rf, y_proba_rf, \"Random Forest\")\n",
    "evaluate_model(y_test, y_pred_xgb, y_proba_xgb, \"XGBoost\")"
   ]
  },
  {
   "cell_type": "code",
   "execution_count": 21,
   "metadata": {
    "colab": {
     "base_uri": "https://localhost:8080/",
     "height": 607
    },
    "id": "r0CTHzee305y",
    "outputId": "449fde93-406e-4131-8bb6-aaad92cfc514"
   },
   "outputs": [
    {
     "data": {
      "image/png": "[encoded data removed]",
      "text/plain": [
       "<Figure size 1000x600 with 1 Axes>"
      ]
     },
     "metadata": {},
     "output_type": "display_data"
    }
   ],
   "source": [
    "# Plot Precision-Recall Curves\n",
    "plt.figure(figsize=(10, 6))\n",
    "for y_proba, name in zip(\n",
    "    [y_proba_log, y_proba_rf, y_proba_xgb],\n",
    "    [\"Logistic Regression\", \"Random Forest\", \"XGBoost\"],\n",
    "):\n",
    "    precision, recall, thresholds = precision_recall_curve(y_test, y_proba)\n",
    "    pr_auc = auc(recall, precision)\n",
    "    plt.plot(recall, precision, label=f\"{name} (AUC={pr_auc:.2f})\")\n",
    "\n",
    "plt.xlabel(\"Recall\")\n",
    "plt.ylabel(\"Precision\")\n",
    "plt.title(\"Precision-Recall Curves(with Class-weights)\")\n",
    "plt.legend()\n",
    "plt.grid(True)\n",
    "plt.tight_layout()\n",
    "plt.show()"
   ]
  },
  {
   "cell_type": "markdown",
   "metadata": {
    "id": "cGEyO4Wx8CdT"
   },
   "source": [
    "## Feature Importance"
   ]
  },
  {
   "cell_type": "code",
   "execution_count": 22,
   "metadata": {
    "colab": {
     "base_uri": "https://localhost:8080/",
     "height": 607
    },
    "id": "tfCP67Wg8HIQ",
    "outputId": "ad2501cc-8980-4cdd-e4bf-4c5267cfcc57"
   },
   "outputs": [
    {
     "data": {
      "image/png": "[encoded data removed]",
      "text/plain": [
       "<Figure size 1000x600 with 1 Axes>"
      ]
     },
     "metadata": {},
     "output_type": "display_data"
    }
   ],
   "source": [
    "# Random Forest\n",
    "rf_importances = pd.Series(rf.feature_importances_, index=X.columns).sort_values(\n",
    "    ascending=False\n",
    ")\n",
    "\n",
    "# Plot Top 15 Features\n",
    "plt.figure(figsize=(10, 6))\n",
    "sns.barplot(x=rf_importances[:15], y=rf_importances.index[:15])\n",
    "plt.title(\"Top 15 Key Predictors of Loan Default Risk (Random Forest)\")\n",
    "plt.xlabel(\"Feature Importance Score\")\n",
    "plt.tight_layout()\n",
    "plt.show()"
   ]
  },
  {
   "cell_type": "code",
   "execution_count": 23,
   "metadata": {
    "colab": {
     "base_uri": "https://localhost:8080/",
     "height": 607
    },
    "id": "YO4aVyE08Ng7",
    "outputId": "4e415c0a-03cb-4623-a301-47a8f4c1ecad"
   },
   "outputs": [
    {
     "data": {
      "image/png": "[encoded data removed]",
      "text/plain": [
       "<Figure size 1000x600 with 1 Axes>"
      ]
     },
     "metadata": {},
     "output_type": "display_data"
    }
   ],
   "source": [
    "# XGBoost\n",
    "xgb_importances = pd.Series(xgb.feature_importances_, index=X.columns).sort_values(\n",
    "    ascending=False\n",
    ")\n",
    "\n",
    "# Plot Top 15 Features\n",
    "plt.figure(figsize=(10, 6))\n",
    "sns.barplot(x=xgb_importances[:15], y=xgb_importances.index[:15])\n",
    "plt.title(\"Top 15 Key Predictors of Loan Default Risk (XGBoost)\")\n",
    "plt.xlabel(\"Feature Importance Score\")\n",
    "plt.tight_layout()\n",
    "plt.show()"
   ]
  },
  {
   "cell_type": "code",
   "execution_count": 24,
   "metadata": {
    "colab": {
     "base_uri": "https://localhost:8080/",
     "height": 1000
    },
    "id": "57xJl9DSzwpT",
    "outputId": "6ea3004c-6485-43ec-f32e-ac0a89546757"
   },
   "outputs": [
    {
     "data": {
      "image/png": "[encoded data removed]",
      "text/plain": [
       "<Figure size 800x550 with 2 Axes>"
      ]
     },
     "metadata": {},
     "output_type": "display_data"
    },
    {
     "data": {
      "image/png": "[encoded data removed]",
      "text/plain": [
       "<Figure size 800x650 with 1 Axes>"
      ]
     },
     "metadata": {},
     "output_type": "display_data"
    },
    {
     "data": {
      "image/png": "[encoded data removed]",
      "text/plain": [
       "<Figure size 800x650 with 3 Axes>"
      ]
     },
     "metadata": {},
     "output_type": "display_data"
    }
   ],
   "source": [
    "import shap\n",
    "\n",
    "# Fit SHAP explainer on the XGBoost model\n",
    "explainer = shap.Explainer(xgb)\n",
    "shap_values = explainer(X_test)\n",
    "\n",
    "# Summary plot: shows global feature importance\n",
    "shap.plots.beeswarm(shap_values)\n",
    "\n",
    "# Alternatively for older matplotlib-based plot:\n",
    "# shap.summary_plot(shap_values, X_test)\n",
    "\n",
    "# Feature importance (bar chart)\n",
    "shap.plots.bar(shap_values)\n",
    "\n",
    "# Explain a single prediction (choose any row from X_test)\n",
    "i = 0  # First instance\n",
    "shap.plots.waterfall(shap_values[i])"
   ]
  },
  {
   "cell_type": "markdown",
   "metadata": {},
   "source": [
    "## Save XGB Model"
   ]
  },
  {
   "cell_type": "code",
   "execution_count": 27,
   "metadata": {},
   "outputs": [
    {
     "data": {
      "text/plain": [
       "['xgb_model.pkl']"
      ]
     },
     "execution_count": 27,
     "metadata": {},
     "output_type": "execute_result"
    }
   ],
   "source": [
    "# Save XGBoost model to pickle file\n",
    "import joblib\n",
    "\n",
    "joblib.dump(xgb, \"xgb_model.pkl\")"
   ]
  }
 ],
 "metadata": {
  "colab": {
   "provenance": []
  },
  "kernelspec": {
   "display_name": "Python 3",
   "name": "python3"
  },
  "language_info": {
   "codemirror_mode": {
    "name": "ipython",
    "version": 3
   },
   "file_extension": ".py",
   "mimetype": "text/x-python",
   "name": "python",
   "nbconvert_exporter": "python",
   "pygments_lexer": "ipython3",
   "version": "3.12.10"
  }
 },
 "nbformat": 4,
 "nbformat_minor": 0
}
