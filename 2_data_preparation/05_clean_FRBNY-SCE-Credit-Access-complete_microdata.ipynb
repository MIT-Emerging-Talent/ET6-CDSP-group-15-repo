{
 "cells": [
  {
   "cell_type": "markdown",
   "metadata": {},
   "source": [
    "# Cleaning SCE Credit Access Microdata (2013–2017)\n",
    "\n",
    "This notebook cleans and prepares the **Survey of Consumer Expectations \n",
    "(SCE) Credit Access** microdata from the Federal Reserve Bank of New York \n",
    "for analysis.\n",
    "\n",
    "## Relevance to Our Project\n",
    "This dataset is highly relevant for modeling credit access patterns, \n",
    "credit usage behavior, and the borrowing intentions of individuals \n",
    "from 2013 to 2017. It helps us understand borrower characteristics, \n",
    "credit barriers, and loan outcomes — critical for assessing **Buy Now \n",
    "Pay Later (BNPL) over-indebtedness risk** among Gen Z and other consumers.\n",
    "\n",
    "---"
   ]
  }
 ],
 "metadata": {
  "kernelspec": {
   "display_name": "Python 3",
   "language": "python",
   "name": "python3"
  },
  "language_info": {
   "name": "python",
   "version": "3.13.0"
  }
 },
 "nbformat": 4,
 "nbformat_minor": 5
}
